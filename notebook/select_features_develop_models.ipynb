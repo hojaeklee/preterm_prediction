{
 "cells": [
  {
   "cell_type": "markdown",
   "metadata": {
    "toc": true
   },
   "source": [
    "<h1>Table of Contents<span class=\"tocSkip\"></span></h1>\n",
    "<div class=\"toc\"><ul class=\"toc-item\"><li><span><a href=\"#Read-in-Data\" data-toc-modified-id=\"Read-in-Data-1\"><span class=\"toc-item-num\">1&nbsp;&nbsp;</span>Read in Data</a></span></li><li><span><a href=\"#PCA\" data-toc-modified-id=\"PCA-2\"><span class=\"toc-item-num\">2&nbsp;&nbsp;</span>PCA</a></span></li><li><span><a href=\"#Organize-data\" data-toc-modified-id=\"Organize-data-3\"><span class=\"toc-item-num\">3&nbsp;&nbsp;</span>Organize data</a></span><ul class=\"toc-item\"><li><span><a href=\"#sPTD\" data-toc-modified-id=\"sPTD-3.1\"><span class=\"toc-item-num\">3.1&nbsp;&nbsp;</span>sPTD</a></span></li><li><span><a href=\"#PPROM\" data-toc-modified-id=\"PPROM-3.2\"><span class=\"toc-item-num\">3.2&nbsp;&nbsp;</span>PPROM</a></span></li><li><span><a href=\"#Both\" data-toc-modified-id=\"Both-3.3\"><span class=\"toc-item-num\">3.3&nbsp;&nbsp;</span>Both</a></span></li></ul></li><li><span><a href=\"#Feature-Selection\" data-toc-modified-id=\"Feature-Selection-4\"><span class=\"toc-item-num\">4&nbsp;&nbsp;</span>Feature Selection</a></span><ul class=\"toc-item\"><li><span><a href=\"#std\" data-toc-modified-id=\"std-4.1\"><span class=\"toc-item-num\">4.1&nbsp;&nbsp;</span>std</a></span></li><li><span><a href=\"#Univariate-Feature-Selection\" data-toc-modified-id=\"Univariate-Feature-Selection-4.2\"><span class=\"toc-item-num\">4.2&nbsp;&nbsp;</span>Univariate Feature Selection</a></span></li><li><span><a href=\"#Multivariate-Feature-Selection\" data-toc-modified-id=\"Multivariate-Feature-Selection-4.3\"><span class=\"toc-item-num\">4.3&nbsp;&nbsp;</span>Multivariate Feature Selection</a></span></li></ul></li><li><span><a href=\"#Model-Development\" data-toc-modified-id=\"Model-Development-5\"><span class=\"toc-item-num\">5&nbsp;&nbsp;</span>Model Development</a></span><ul class=\"toc-item\"><li><ul class=\"toc-item\"><li><span><a href=\"#First-try\" data-toc-modified-id=\"First-try-5.0.1\"><span class=\"toc-item-num\">5.0.1&nbsp;&nbsp;</span>First try</a></span></li><li><span><a href=\"#Tune-hyperparameters\" data-toc-modified-id=\"Tune-hyperparameters-5.0.2\"><span class=\"toc-item-num\">5.0.2&nbsp;&nbsp;</span>Tune hyperparameters</a></span></li><li><span><a href=\"#Recursive-elimination-of-features\" data-toc-modified-id=\"Recursive-elimination-of-features-5.0.3\"><span class=\"toc-item-num\">5.0.3&nbsp;&nbsp;</span>Recursive elimination of features</a></span></li><li><span><a href=\"#Performance-with-recursive-elimination-selected-features\" data-toc-modified-id=\"Performance-with-recursive-elimination-selected-features-5.0.4\"><span class=\"toc-item-num\">5.0.4&nbsp;&nbsp;</span>Performance with recursive elimination selected features</a></span></li><li><span><a href=\"#Tune-hyperparameters-with-recursive-elimination-selected-features\" data-toc-modified-id=\"Tune-hyperparameters-with-recursive-elimination-selected-features-5.0.5\"><span class=\"toc-item-num\">5.0.5&nbsp;&nbsp;</span>Tune hyperparameters with recursive elimination selected features</a></span></li><li><span><a href=\"#Final-decision\" data-toc-modified-id=\"Final-decision-5.0.6\"><span class=\"toc-item-num\">5.0.6&nbsp;&nbsp;</span>Final decision</a></span></li><li><span><a href=\"#Using-features-selected-with-another-methods\" data-toc-modified-id=\"Using-features-selected-with-another-methods-5.0.7\"><span class=\"toc-item-num\">5.0.7&nbsp;&nbsp;</span>Using features selected with another methods</a></span></li></ul></li></ul></li><li><span><a href=\"#Algorithms-and-selected-genes-comparison\" data-toc-modified-id=\"Algorithms-and-selected-genes-comparison-6\"><span class=\"toc-item-num\">6&nbsp;&nbsp;</span>Algorithms and selected genes comparison</a></span><ul class=\"toc-item\"><li><ul class=\"toc-item\"><li><ul class=\"toc-item\"><li><span><a href=\"#sPTD\" data-toc-modified-id=\"sPTD-6.0.0.1\"><span class=\"toc-item-num\">6.0.0.1&nbsp;&nbsp;</span>sPTD</a></span></li><li><span><a href=\"#PPROM\" data-toc-modified-id=\"PPROM-6.0.0.2\"><span class=\"toc-item-num\">6.0.0.2&nbsp;&nbsp;</span>PPROM</a></span></li></ul></li></ul></li></ul></li><li><span><a href=\"#Ensemble-All-3-Algorithms!\" data-toc-modified-id=\"Ensemble-All-3-Algorithms!-7\"><span class=\"toc-item-num\">7&nbsp;&nbsp;</span>Ensemble All 3 Algorithms!</a></span><ul class=\"toc-item\"><li><span><a href=\"#Let's-decide-an-ensemble-way!\" data-toc-modified-id=\"Let's-decide-an-ensemble-way!-7.1\"><span class=\"toc-item-num\">7.1&nbsp;&nbsp;</span>Let's decide an ensemble way!</a></span></li></ul></li><li><span><a href=\"#Appendix\" data-toc-modified-id=\"Appendix-8\"><span class=\"toc-item-num\">8&nbsp;&nbsp;</span>Appendix</a></span><ul class=\"toc-item\"><li><span><a href=\"#selected-genes-comparison\" data-toc-modified-id=\"selected-genes-comparison-8.1\"><span class=\"toc-item-num\">8.1&nbsp;&nbsp;</span>selected genes comparison</a></span></li><li><span><a href=\"#Decision-Tree\" data-toc-modified-id=\"Decision-Tree-8.2\"><span class=\"toc-item-num\">8.2&nbsp;&nbsp;</span>Decision Tree</a></span></li></ul></li></ul></div>"
   ]
  },
  {
   "cell_type": "code",
   "execution_count": 1,
   "metadata": {},
   "outputs": [],
   "source": [
    "import pandas as pd\n",
    "import numpy as np\n",
    "from sklearn.decomposition import PCA\n",
    "import seaborn as sns\n",
    "import matplotlib.pylab as plt\n",
    "%matplotlib inline\n",
    "from scipy.stats import randint\n",
    "from sklearn.tree import DecisionTreeClassifier\n",
    "from sklearn.model_selection import RandomizedSearchCV\n",
    "from sklearn.metrics import roc_auc_score, average_precision_score\n",
    "from sklearn.model_selection import train_test_split, KFold, cross_val_score\n",
    "from sklearn.feature_selection import RFE\n",
    "from sklearn.ensemble import RandomForestClassifier, VotingClassifier\n",
    "from sklearn.linear_model import LogisticRegression\n",
    "import sklearn\n",
    "from sklearn.utils import shuffle\n",
    "from sklearn.svm import SVC\n",
    "import warnings\n",
    "warnings.filterwarnings('ignore')"
   ]
  },
  {
   "cell_type": "markdown",
   "metadata": {},
   "source": [
    "## Read in Data"
   ]
  },
  {
   "cell_type": "code",
   "execution_count": 2,
   "metadata": {},
   "outputs": [],
   "source": [
    "annotation = pd.read_csv('./data/annotation.csv', index_col=0)\n",
    "gene_expression = pd.read_csv('./data/gene_expression.csv', index_col=0)"
   ]
  },
  {
   "cell_type": "code",
   "execution_count": 3,
   "metadata": {},
   "outputs": [
    {
     "data": {
      "text/plain": [
       "(29459, 739)"
      ]
     },
     "execution_count": 3,
     "metadata": {},
     "output_type": "execute_result"
    }
   ],
   "source": [
    "gene_expression.shape"
   ]
  },
  {
   "cell_type": "code",
   "execution_count": 4,
   "metadata": {},
   "outputs": [
    {
     "data": {
      "text/html": [
       "<div>\n",
       "<style scoped>\n",
       "    .dataframe tbody tr th:only-of-type {\n",
       "        vertical-align: middle;\n",
       "    }\n",
       "\n",
       "    .dataframe tbody tr th {\n",
       "        vertical-align: top;\n",
       "    }\n",
       "\n",
       "    .dataframe thead th {\n",
       "        text-align: right;\n",
       "    }\n",
       "</style>\n",
       "<table border=\"1\" class=\"dataframe\">\n",
       "  <thead>\n",
       "    <tr style=\"text-align: right;\">\n",
       "      <th></th>\n",
       "      <th>SampleID</th>\n",
       "      <th>IndividualID</th>\n",
       "      <th>GA</th>\n",
       "      <th>GADel</th>\n",
       "      <th>Group</th>\n",
       "      <th>Set</th>\n",
       "      <th>Train</th>\n",
       "      <th>Platform</th>\n",
       "      <th>TTD</th>\n",
       "    </tr>\n",
       "  </thead>\n",
       "  <tbody>\n",
       "    <tr>\n",
       "      <th>1</th>\n",
       "      <td>GSM1437802</td>\n",
       "      <td>515122</td>\n",
       "      <td>28.0</td>\n",
       "      <td>40.0</td>\n",
       "      <td>Control</td>\n",
       "      <td>GSE59491</td>\n",
       "      <td>1</td>\n",
       "      <td>HG21ST</td>\n",
       "      <td>12.0</td>\n",
       "    </tr>\n",
       "    <tr>\n",
       "      <th>2</th>\n",
       "      <td>GSM1437801</td>\n",
       "      <td>515122</td>\n",
       "      <td>19.0</td>\n",
       "      <td>40.0</td>\n",
       "      <td>Control</td>\n",
       "      <td>GSE59491</td>\n",
       "      <td>1</td>\n",
       "      <td>HG21ST</td>\n",
       "      <td>21.0</td>\n",
       "    </tr>\n",
       "    <tr>\n",
       "      <th>3</th>\n",
       "      <td>GSM1437804</td>\n",
       "      <td>810384</td>\n",
       "      <td>28.0</td>\n",
       "      <td>40.0</td>\n",
       "      <td>Control</td>\n",
       "      <td>GSE59491</td>\n",
       "      <td>1</td>\n",
       "      <td>HG21ST</td>\n",
       "      <td>12.0</td>\n",
       "    </tr>\n",
       "    <tr>\n",
       "      <th>4</th>\n",
       "      <td>GSM1437803</td>\n",
       "      <td>810384</td>\n",
       "      <td>18.0</td>\n",
       "      <td>40.0</td>\n",
       "      <td>Control</td>\n",
       "      <td>GSE59491</td>\n",
       "      <td>1</td>\n",
       "      <td>HG21ST</td>\n",
       "      <td>22.0</td>\n",
       "    </tr>\n",
       "    <tr>\n",
       "      <th>5</th>\n",
       "      <td>GSM1437806</td>\n",
       "      <td>810392</td>\n",
       "      <td>28.0</td>\n",
       "      <td>41.0</td>\n",
       "      <td>Control</td>\n",
       "      <td>GSE59491</td>\n",
       "      <td>1</td>\n",
       "      <td>HG21ST</td>\n",
       "      <td>13.0</td>\n",
       "    </tr>\n",
       "  </tbody>\n",
       "</table>\n",
       "</div>"
      ],
      "text/plain": [
       "     SampleID  IndividualID    GA  GADel    Group       Set  Train Platform  \\\n",
       "1  GSM1437802        515122  28.0   40.0  Control  GSE59491      1   HG21ST   \n",
       "2  GSM1437801        515122  19.0   40.0  Control  GSE59491      1   HG21ST   \n",
       "3  GSM1437804        810384  28.0   40.0  Control  GSE59491      1   HG21ST   \n",
       "4  GSM1437803        810384  18.0   40.0  Control  GSE59491      1   HG21ST   \n",
       "5  GSM1437806        810392  28.0   41.0  Control  GSE59491      1   HG21ST   \n",
       "\n",
       "    TTD  \n",
       "1  12.0  \n",
       "2  21.0  \n",
       "3  12.0  \n",
       "4  22.0  \n",
       "5  13.0  "
      ]
     },
     "execution_count": 4,
     "metadata": {},
     "output_type": "execute_result"
    }
   ],
   "source": [
    "annotation.head()"
   ]
  },
  {
   "cell_type": "code",
   "execution_count": 5,
   "metadata": {},
   "outputs": [
    {
     "data": {
      "text/html": [
       "<div>\n",
       "<style scoped>\n",
       "    .dataframe tbody tr th:only-of-type {\n",
       "        vertical-align: middle;\n",
       "    }\n",
       "\n",
       "    .dataframe tbody tr th {\n",
       "        vertical-align: top;\n",
       "    }\n",
       "\n",
       "    .dataframe thead th {\n",
       "        text-align: right;\n",
       "    }\n",
       "</style>\n",
       "<table border=\"1\" class=\"dataframe\">\n",
       "  <thead>\n",
       "    <tr style=\"text-align: right;\">\n",
       "      <th></th>\n",
       "      <th>GSM1437802</th>\n",
       "      <th>GSM1437801</th>\n",
       "      <th>GSM1437804</th>\n",
       "      <th>GSM1437803</th>\n",
       "      <th>GSM1437806</th>\n",
       "      <th>GSM1437805</th>\n",
       "      <th>GSM1437808</th>\n",
       "      <th>GSM1437807</th>\n",
       "      <th>GSM1437810</th>\n",
       "      <th>GSM1437809</th>\n",
       "      <th>...</th>\n",
       "      <th>Tarca_008_P1A08</th>\n",
       "      <th>Tarca_091_P1H07</th>\n",
       "      <th>Tarca_492_P6D02</th>\n",
       "      <th>Tarca_491_P6C02</th>\n",
       "      <th>Tarca_506_P6B04</th>\n",
       "      <th>Tarca_920_P10H07</th>\n",
       "      <th>Tarca_919_P10G07</th>\n",
       "      <th>Tarca_918_P10F07</th>\n",
       "      <th>Tarca_917_P10E07</th>\n",
       "      <th>Tarca_916_P10D07</th>\n",
       "    </tr>\n",
       "  </thead>\n",
       "  <tbody>\n",
       "    <tr>\n",
       "      <th>1_at</th>\n",
       "      <td>5.673714</td>\n",
       "      <td>5.657469</td>\n",
       "      <td>5.263798</td>\n",
       "      <td>5.621857</td>\n",
       "      <td>5.746427</td>\n",
       "      <td>5.382171</td>\n",
       "      <td>5.977089</td>\n",
       "      <td>5.771783</td>\n",
       "      <td>5.511752</td>\n",
       "      <td>5.302418</td>\n",
       "      <td>...</td>\n",
       "      <td>5.788344</td>\n",
       "      <td>5.543969</td>\n",
       "      <td>5.128486</td>\n",
       "      <td>5.343032</td>\n",
       "      <td>5.577095</td>\n",
       "      <td>5.767927</td>\n",
       "      <td>5.982427</td>\n",
       "      <td>5.869221</td>\n",
       "      <td>5.871484</td>\n",
       "      <td>5.752629</td>\n",
       "    </tr>\n",
       "    <tr>\n",
       "      <th>10_at</th>\n",
       "      <td>3.722012</td>\n",
       "      <td>3.027650</td>\n",
       "      <td>3.095365</td>\n",
       "      <td>3.429769</td>\n",
       "      <td>2.938438</td>\n",
       "      <td>3.055553</td>\n",
       "      <td>2.838617</td>\n",
       "      <td>2.977819</td>\n",
       "      <td>2.944549</td>\n",
       "      <td>2.977487</td>\n",
       "      <td>...</td>\n",
       "      <td>2.919084</td>\n",
       "      <td>2.970130</td>\n",
       "      <td>2.714327</td>\n",
       "      <td>3.012835</td>\n",
       "      <td>2.918379</td>\n",
       "      <td>2.973631</td>\n",
       "      <td>3.044613</td>\n",
       "      <td>3.321144</td>\n",
       "      <td>3.039177</td>\n",
       "      <td>2.976313</td>\n",
       "    </tr>\n",
       "    <tr>\n",
       "      <th>100_at</th>\n",
       "      <td>6.844537</td>\n",
       "      <td>6.979622</td>\n",
       "      <td>7.311993</td>\n",
       "      <td>7.406321</td>\n",
       "      <td>7.155013</td>\n",
       "      <td>6.930386</td>\n",
       "      <td>7.300295</td>\n",
       "      <td>7.156051</td>\n",
       "      <td>7.512933</td>\n",
       "      <td>7.163658</td>\n",
       "      <td>...</td>\n",
       "      <td>7.328793</td>\n",
       "      <td>7.189998</td>\n",
       "      <td>7.414430</td>\n",
       "      <td>7.559631</td>\n",
       "      <td>7.511595</td>\n",
       "      <td>7.325456</td>\n",
       "      <td>7.149270</td>\n",
       "      <td>7.130817</td>\n",
       "      <td>7.139528</td>\n",
       "      <td>7.203337</td>\n",
       "    </tr>\n",
       "    <tr>\n",
       "      <th>1000_at</th>\n",
       "      <td>4.209495</td>\n",
       "      <td>3.973889</td>\n",
       "      <td>4.126598</td>\n",
       "      <td>3.721685</td>\n",
       "      <td>3.899342</td>\n",
       "      <td>4.073817</td>\n",
       "      <td>3.811101</td>\n",
       "      <td>3.766648</td>\n",
       "      <td>4.029314</td>\n",
       "      <td>4.153578</td>\n",
       "      <td>...</td>\n",
       "      <td>3.718119</td>\n",
       "      <td>3.714274</td>\n",
       "      <td>3.902793</td>\n",
       "      <td>3.870281</td>\n",
       "      <td>3.860453</td>\n",
       "      <td>4.062084</td>\n",
       "      <td>4.034426</td>\n",
       "      <td>4.021482</td>\n",
       "      <td>3.999080</td>\n",
       "      <td>3.980084</td>\n",
       "    </tr>\n",
       "    <tr>\n",
       "      <th>10000_at</th>\n",
       "      <td>6.915998</td>\n",
       "      <td>6.820816</td>\n",
       "      <td>6.785624</td>\n",
       "      <td>6.665341</td>\n",
       "      <td>6.637787</td>\n",
       "      <td>6.552980</td>\n",
       "      <td>6.695902</td>\n",
       "      <td>6.714650</td>\n",
       "      <td>6.564450</td>\n",
       "      <td>6.640959</td>\n",
       "      <td>...</td>\n",
       "      <td>6.596466</td>\n",
       "      <td>6.693787</td>\n",
       "      <td>7.315201</td>\n",
       "      <td>7.284721</td>\n",
       "      <td>6.636553</td>\n",
       "      <td>6.501599</td>\n",
       "      <td>6.297040</td>\n",
       "      <td>6.600034</td>\n",
       "      <td>6.229878</td>\n",
       "      <td>6.284294</td>\n",
       "    </tr>\n",
       "  </tbody>\n",
       "</table>\n",
       "<p>5 rows × 739 columns</p>\n",
       "</div>"
      ],
      "text/plain": [
       "          GSM1437802  GSM1437801  GSM1437804  GSM1437803  GSM1437806  \\\n",
       "1_at        5.673714    5.657469    5.263798    5.621857    5.746427   \n",
       "10_at       3.722012    3.027650    3.095365    3.429769    2.938438   \n",
       "100_at      6.844537    6.979622    7.311993    7.406321    7.155013   \n",
       "1000_at     4.209495    3.973889    4.126598    3.721685    3.899342   \n",
       "10000_at    6.915998    6.820816    6.785624    6.665341    6.637787   \n",
       "\n",
       "          GSM1437805  GSM1437808  GSM1437807  GSM1437810  GSM1437809  \\\n",
       "1_at        5.382171    5.977089    5.771783    5.511752    5.302418   \n",
       "10_at       3.055553    2.838617    2.977819    2.944549    2.977487   \n",
       "100_at      6.930386    7.300295    7.156051    7.512933    7.163658   \n",
       "1000_at     4.073817    3.811101    3.766648    4.029314    4.153578   \n",
       "10000_at    6.552980    6.695902    6.714650    6.564450    6.640959   \n",
       "\n",
       "                ...         Tarca_008_P1A08  Tarca_091_P1H07  Tarca_492_P6D02  \\\n",
       "1_at            ...                5.788344         5.543969         5.128486   \n",
       "10_at           ...                2.919084         2.970130         2.714327   \n",
       "100_at          ...                7.328793         7.189998         7.414430   \n",
       "1000_at         ...                3.718119         3.714274         3.902793   \n",
       "10000_at        ...                6.596466         6.693787         7.315201   \n",
       "\n",
       "          Tarca_491_P6C02  Tarca_506_P6B04  Tarca_920_P10H07  \\\n",
       "1_at             5.343032         5.577095          5.767927   \n",
       "10_at            3.012835         2.918379          2.973631   \n",
       "100_at           7.559631         7.511595          7.325456   \n",
       "1000_at          3.870281         3.860453          4.062084   \n",
       "10000_at         7.284721         6.636553          6.501599   \n",
       "\n",
       "          Tarca_919_P10G07  Tarca_918_P10F07  Tarca_917_P10E07  \\\n",
       "1_at              5.982427          5.869221          5.871484   \n",
       "10_at             3.044613          3.321144          3.039177   \n",
       "100_at            7.149270          7.130817          7.139528   \n",
       "1000_at           4.034426          4.021482          3.999080   \n",
       "10000_at          6.297040          6.600034          6.229878   \n",
       "\n",
       "          Tarca_916_P10D07  \n",
       "1_at              5.752629  \n",
       "10_at             2.976313  \n",
       "100_at            7.203337  \n",
       "1000_at           3.980084  \n",
       "10000_at          6.284294  \n",
       "\n",
       "[5 rows x 739 columns]"
      ]
     },
     "execution_count": 5,
     "metadata": {},
     "output_type": "execute_result"
    }
   ],
   "source": [
    "gene_expression.head()"
   ]
  },
  {
   "cell_type": "code",
   "execution_count": 6,
   "metadata": {},
   "outputs": [
    {
     "data": {
      "text/html": [
       "<div>\n",
       "<style scoped>\n",
       "    .dataframe tbody tr th:only-of-type {\n",
       "        vertical-align: middle;\n",
       "    }\n",
       "\n",
       "    .dataframe tbody tr th {\n",
       "        vertical-align: top;\n",
       "    }\n",
       "\n",
       "    .dataframe thead th {\n",
       "        text-align: right;\n",
       "    }\n",
       "</style>\n",
       "<table border=\"1\" class=\"dataframe\">\n",
       "  <thead>\n",
       "    <tr style=\"text-align: right;\">\n",
       "      <th></th>\n",
       "      <th>GSM1437802</th>\n",
       "      <th>GSM1437801</th>\n",
       "      <th>GSM1437804</th>\n",
       "      <th>GSM1437803</th>\n",
       "      <th>GSM1437806</th>\n",
       "      <th>GSM1437805</th>\n",
       "      <th>GSM1437808</th>\n",
       "      <th>GSM1437807</th>\n",
       "      <th>GSM1437810</th>\n",
       "      <th>GSM1437809</th>\n",
       "      <th>...</th>\n",
       "      <th>Tarca_008_P1A08</th>\n",
       "      <th>Tarca_091_P1H07</th>\n",
       "      <th>Tarca_492_P6D02</th>\n",
       "      <th>Tarca_491_P6C02</th>\n",
       "      <th>Tarca_506_P6B04</th>\n",
       "      <th>Tarca_920_P10H07</th>\n",
       "      <th>Tarca_919_P10G07</th>\n",
       "      <th>Tarca_918_P10F07</th>\n",
       "      <th>Tarca_917_P10E07</th>\n",
       "      <th>Tarca_916_P10D07</th>\n",
       "    </tr>\n",
       "  </thead>\n",
       "  <tbody>\n",
       "    <tr>\n",
       "      <th>1_at</th>\n",
       "      <td>5.673714</td>\n",
       "      <td>5.657469</td>\n",
       "      <td>5.263798</td>\n",
       "      <td>5.621857</td>\n",
       "      <td>5.746427</td>\n",
       "      <td>5.382171</td>\n",
       "      <td>5.977089</td>\n",
       "      <td>5.771783</td>\n",
       "      <td>5.511752</td>\n",
       "      <td>5.302418</td>\n",
       "      <td>...</td>\n",
       "      <td>5.788344</td>\n",
       "      <td>5.543969</td>\n",
       "      <td>5.128486</td>\n",
       "      <td>5.343032</td>\n",
       "      <td>5.577095</td>\n",
       "      <td>5.767927</td>\n",
       "      <td>5.982427</td>\n",
       "      <td>5.869221</td>\n",
       "      <td>5.871484</td>\n",
       "      <td>5.752629</td>\n",
       "    </tr>\n",
       "    <tr>\n",
       "      <th>10_at</th>\n",
       "      <td>3.722012</td>\n",
       "      <td>3.027650</td>\n",
       "      <td>3.095365</td>\n",
       "      <td>3.429769</td>\n",
       "      <td>2.938438</td>\n",
       "      <td>3.055553</td>\n",
       "      <td>2.838617</td>\n",
       "      <td>2.977819</td>\n",
       "      <td>2.944549</td>\n",
       "      <td>2.977487</td>\n",
       "      <td>...</td>\n",
       "      <td>2.919084</td>\n",
       "      <td>2.970130</td>\n",
       "      <td>2.714327</td>\n",
       "      <td>3.012835</td>\n",
       "      <td>2.918379</td>\n",
       "      <td>2.973631</td>\n",
       "      <td>3.044613</td>\n",
       "      <td>3.321144</td>\n",
       "      <td>3.039177</td>\n",
       "      <td>2.976313</td>\n",
       "    </tr>\n",
       "    <tr>\n",
       "      <th>100_at</th>\n",
       "      <td>6.844537</td>\n",
       "      <td>6.979622</td>\n",
       "      <td>7.311993</td>\n",
       "      <td>7.406321</td>\n",
       "      <td>7.155013</td>\n",
       "      <td>6.930386</td>\n",
       "      <td>7.300295</td>\n",
       "      <td>7.156051</td>\n",
       "      <td>7.512933</td>\n",
       "      <td>7.163658</td>\n",
       "      <td>...</td>\n",
       "      <td>7.328793</td>\n",
       "      <td>7.189998</td>\n",
       "      <td>7.414430</td>\n",
       "      <td>7.559631</td>\n",
       "      <td>7.511595</td>\n",
       "      <td>7.325456</td>\n",
       "      <td>7.149270</td>\n",
       "      <td>7.130817</td>\n",
       "      <td>7.139528</td>\n",
       "      <td>7.203337</td>\n",
       "    </tr>\n",
       "    <tr>\n",
       "      <th>1000_at</th>\n",
       "      <td>4.209495</td>\n",
       "      <td>3.973889</td>\n",
       "      <td>4.126598</td>\n",
       "      <td>3.721685</td>\n",
       "      <td>3.899342</td>\n",
       "      <td>4.073817</td>\n",
       "      <td>3.811101</td>\n",
       "      <td>3.766648</td>\n",
       "      <td>4.029314</td>\n",
       "      <td>4.153578</td>\n",
       "      <td>...</td>\n",
       "      <td>3.718119</td>\n",
       "      <td>3.714274</td>\n",
       "      <td>3.902793</td>\n",
       "      <td>3.870281</td>\n",
       "      <td>3.860453</td>\n",
       "      <td>4.062084</td>\n",
       "      <td>4.034426</td>\n",
       "      <td>4.021482</td>\n",
       "      <td>3.999080</td>\n",
       "      <td>3.980084</td>\n",
       "    </tr>\n",
       "    <tr>\n",
       "      <th>10000_at</th>\n",
       "      <td>6.915998</td>\n",
       "      <td>6.820816</td>\n",
       "      <td>6.785624</td>\n",
       "      <td>6.665341</td>\n",
       "      <td>6.637787</td>\n",
       "      <td>6.552980</td>\n",
       "      <td>6.695902</td>\n",
       "      <td>6.714650</td>\n",
       "      <td>6.564450</td>\n",
       "      <td>6.640959</td>\n",
       "      <td>...</td>\n",
       "      <td>6.596466</td>\n",
       "      <td>6.693787</td>\n",
       "      <td>7.315201</td>\n",
       "      <td>7.284721</td>\n",
       "      <td>6.636553</td>\n",
       "      <td>6.501599</td>\n",
       "      <td>6.297040</td>\n",
       "      <td>6.600034</td>\n",
       "      <td>6.229878</td>\n",
       "      <td>6.284294</td>\n",
       "    </tr>\n",
       "  </tbody>\n",
       "</table>\n",
       "<p>5 rows × 739 columns</p>\n",
       "</div>"
      ],
      "text/plain": [
       "          GSM1437802  GSM1437801  GSM1437804  GSM1437803  GSM1437806  \\\n",
       "1_at        5.673714    5.657469    5.263798    5.621857    5.746427   \n",
       "10_at       3.722012    3.027650    3.095365    3.429769    2.938438   \n",
       "100_at      6.844537    6.979622    7.311993    7.406321    7.155013   \n",
       "1000_at     4.209495    3.973889    4.126598    3.721685    3.899342   \n",
       "10000_at    6.915998    6.820816    6.785624    6.665341    6.637787   \n",
       "\n",
       "          GSM1437805  GSM1437808  GSM1437807  GSM1437810  GSM1437809  \\\n",
       "1_at        5.382171    5.977089    5.771783    5.511752    5.302418   \n",
       "10_at       3.055553    2.838617    2.977819    2.944549    2.977487   \n",
       "100_at      6.930386    7.300295    7.156051    7.512933    7.163658   \n",
       "1000_at     4.073817    3.811101    3.766648    4.029314    4.153578   \n",
       "10000_at    6.552980    6.695902    6.714650    6.564450    6.640959   \n",
       "\n",
       "                ...         Tarca_008_P1A08  Tarca_091_P1H07  Tarca_492_P6D02  \\\n",
       "1_at            ...                5.788344         5.543969         5.128486   \n",
       "10_at           ...                2.919084         2.970130         2.714327   \n",
       "100_at          ...                7.328793         7.189998         7.414430   \n",
       "1000_at         ...                3.718119         3.714274         3.902793   \n",
       "10000_at        ...                6.596466         6.693787         7.315201   \n",
       "\n",
       "          Tarca_491_P6C02  Tarca_506_P6B04  Tarca_920_P10H07  \\\n",
       "1_at             5.343032         5.577095          5.767927   \n",
       "10_at            3.012835         2.918379          2.973631   \n",
       "100_at           7.559631         7.511595          7.325456   \n",
       "1000_at          3.870281         3.860453          4.062084   \n",
       "10000_at         7.284721         6.636553          6.501599   \n",
       "\n",
       "          Tarca_919_P10G07  Tarca_918_P10F07  Tarca_917_P10E07  \\\n",
       "1_at              5.982427          5.869221          5.871484   \n",
       "10_at             3.044613          3.321144          3.039177   \n",
       "100_at            7.149270          7.130817          7.139528   \n",
       "1000_at           4.034426          4.021482          3.999080   \n",
       "10000_at          6.297040          6.600034          6.229878   \n",
       "\n",
       "          Tarca_916_P10D07  \n",
       "1_at              5.752629  \n",
       "10_at             2.976313  \n",
       "100_at            7.203337  \n",
       "1000_at           3.980084  \n",
       "10000_at          6.284294  \n",
       "\n",
       "[5 rows x 739 columns]"
      ]
     },
     "execution_count": 6,
     "metadata": {},
     "output_type": "execute_result"
    }
   ],
   "source": [
    "gene_expression_GA = gene_expression.copy()\n",
    "gene_expression_GA.loc['GA', :] = annotation['GA'].values\n",
    "gene_expression_GA.head()"
   ]
  },
  {
   "cell_type": "markdown",
   "metadata": {},
   "source": [
    "## PCA"
   ]
  },
  {
   "cell_type": "code",
   "execution_count": 42,
   "metadata": {},
   "outputs": [],
   "source": [
    "pca = PCA(n_components=2)\n",
    "principalComponents = pca.fit_transform(gene_expression.T)\n",
    "principalDf = pd.DataFrame(data = principalComponents, columns = ['principal component 1', 'principal component 2'])"
   ]
  },
  {
   "cell_type": "code",
   "execution_count": 58,
   "metadata": {},
   "outputs": [
    {
     "data": {
      "text/plain": [
       "<matplotlib.text.Text at 0x186f17080>"
      ]
     },
     "execution_count": 58,
     "metadata": {},
     "output_type": "execute_result"
    },
    {
     "data": {
      "image/png": "[encoded data removed]",
      "text/plain": [
       "<matplotlib.figure.Figure at 0x186d7e748>"
      ]
     },
     "metadata": {
      "needs_background": "light"
     },
     "output_type": "display_data"
    }
   ],
   "source": [
    "principalDf.loc[:, 'GA'] = annotation['GA'].values\n",
    "plt.figure(figsize=(15,10))\n",
    "plt.scatter(principalDf['principal component 1'], principalDf['principal component 2'], c=principalDf['GA'])\n",
    "plt.colorbar()\n",
    "plt.title('PCA colored by GA')"
   ]
  },
  {
   "cell_type": "code",
   "execution_count": 98,
   "metadata": {},
   "outputs": [
    {
     "data": {
      "text/plain": [
       "<matplotlib.text.Text at 0x18c3a1b00>"
      ]
     },
     "execution_count": 98,
     "metadata": {},
     "output_type": "execute_result"
    },
    {
     "data": {
      "image/png": "[encoded data removed]",
      "text/plain": [
       "<matplotlib.figure.Figure at 0x181fd1da0>"
      ]
     },
     "metadata": {
      "needs_background": "light"
     },
     "output_type": "display_data"
    }
   ],
   "source": [
    "principalDf.loc[:, 'Platform'] = annotation['Platform'].values\n",
    "platform_plot = sns.lmplot(x=\"principal component 1\", y=\"principal component 2\", data=principalDf, \n",
    "                           fit_reg=False, hue='Platform', legend=True)\n",
    "platform_plot.fig.set_figwidth(15)\n",
    "platform_plot.fig.set_figheight(10)\n",
    "platform_plot.ax.set_title('PCA by platform')"
   ]
  },
  {
   "cell_type": "code",
   "execution_count": 100,
   "metadata": {},
   "outputs": [
    {
     "data": {
      "text/plain": [
       "<matplotlib.text.Text at 0x18c30c748>"
      ]
     },
     "execution_count": 100,
     "metadata": {},
     "output_type": "execute_result"
    },
    {
     "data": {
      "image/png": "[encoded data removed]",
      "text/plain": [
       "<matplotlib.figure.Figure at 0x18b832a20>"
      ]
     },
     "metadata": {
      "needs_background": "light"
     },
     "output_type": "display_data"
    }
   ],
   "source": [
    "principalDf.loc[:, 'Group'] = annotation['Group'].values\n",
    "platform_plot = sns.lmplot(x=\"principal component 1\", y=\"principal component 2\", data=principalDf, \n",
    "                           fit_reg=False, hue='Group', legend=True)\n",
    "platform_plot.fig.set_figwidth(15)\n",
    "platform_plot.fig.set_figheight(10)\n",
    "platform_plot.ax.set_title('PCA by group')"
   ]
  },
  {
   "cell_type": "markdown",
   "metadata": {
    "toc-hr-collapsed": true
   },
   "source": [
    "## Organize data"
   ]
  },
  {
   "cell_type": "markdown",
   "metadata": {},
   "source": [
    "### sPTD"
   ]
  },
  {
   "cell_type": "code",
   "execution_count": 7,
   "metadata": {},
   "outputs": [],
   "source": [
    "sPTD_index = annotation[(annotation['Group'] == 'sPTD') & (annotation['Train'] == 1)]['SampleID'] #55\n",
    "control_index = annotation[(annotation['Group'] == 'Control') & (annotation['Train'] == 1)]['SampleID']#285"
   ]
  },
  {
   "cell_type": "code",
   "execution_count": 8,
   "metadata": {},
   "outputs": [
    {
     "data": {
      "text/html": [
       "<div>\n",
       "<style scoped>\n",
       "    .dataframe tbody tr th:only-of-type {\n",
       "        vertical-align: middle;\n",
       "    }\n",
       "\n",
       "    .dataframe tbody tr th {\n",
       "        vertical-align: top;\n",
       "    }\n",
       "\n",
       "    .dataframe thead th {\n",
       "        text-align: right;\n",
       "    }\n",
       "</style>\n",
       "<table border=\"1\" class=\"dataframe\">\n",
       "  <thead>\n",
       "    <tr style=\"text-align: right;\">\n",
       "      <th></th>\n",
       "      <th>1_at</th>\n",
       "      <th>10_at</th>\n",
       "      <th>100_at</th>\n",
       "      <th>1000_at</th>\n",
       "      <th>10000_at</th>\n",
       "      <th>100009613_at</th>\n",
       "      <th>100009676_at</th>\n",
       "      <th>10001_at</th>\n",
       "      <th>10002_at</th>\n",
       "      <th>10003_at</th>\n",
       "      <th>...</th>\n",
       "      <th>9987_at</th>\n",
       "      <th>9988_at</th>\n",
       "      <th>9989_at</th>\n",
       "      <th>999_at</th>\n",
       "      <th>9990_at</th>\n",
       "      <th>9991_at</th>\n",
       "      <th>9992_at</th>\n",
       "      <th>9993_at</th>\n",
       "      <th>9994_at</th>\n",
       "      <th>9997_at</th>\n",
       "    </tr>\n",
       "  </thead>\n",
       "  <tbody>\n",
       "    <tr>\n",
       "      <th>GSM1437810</th>\n",
       "      <td>5.511752</td>\n",
       "      <td>2.944549</td>\n",
       "      <td>7.512933</td>\n",
       "      <td>4.029314</td>\n",
       "      <td>6.564450</td>\n",
       "      <td>4.240846</td>\n",
       "      <td>6.347655</td>\n",
       "      <td>6.801058</td>\n",
       "      <td>4.501354</td>\n",
       "      <td>2.713820</td>\n",
       "      <td>...</td>\n",
       "      <td>8.762870</td>\n",
       "      <td>8.106219</td>\n",
       "      <td>8.877520</td>\n",
       "      <td>5.932616</td>\n",
       "      <td>10.050322</td>\n",
       "      <td>10.306291</td>\n",
       "      <td>3.431962</td>\n",
       "      <td>8.885501</td>\n",
       "      <td>6.566986</td>\n",
       "      <td>6.986337</td>\n",
       "    </tr>\n",
       "    <tr>\n",
       "      <th>GSM1437809</th>\n",
       "      <td>5.302418</td>\n",
       "      <td>2.977487</td>\n",
       "      <td>7.163658</td>\n",
       "      <td>4.153578</td>\n",
       "      <td>6.640959</td>\n",
       "      <td>4.657196</td>\n",
       "      <td>6.421690</td>\n",
       "      <td>6.867667</td>\n",
       "      <td>4.334812</td>\n",
       "      <td>2.546507</td>\n",
       "      <td>...</td>\n",
       "      <td>9.052456</td>\n",
       "      <td>8.282753</td>\n",
       "      <td>8.872234</td>\n",
       "      <td>5.763782</td>\n",
       "      <td>10.193552</td>\n",
       "      <td>10.018784</td>\n",
       "      <td>3.569207</td>\n",
       "      <td>9.151631</td>\n",
       "      <td>6.463455</td>\n",
       "      <td>7.143755</td>\n",
       "    </tr>\n",
       "    <tr>\n",
       "      <th>GSM1437857</th>\n",
       "      <td>5.553600</td>\n",
       "      <td>2.667715</td>\n",
       "      <td>6.893251</td>\n",
       "      <td>3.603015</td>\n",
       "      <td>6.697281</td>\n",
       "      <td>3.760056</td>\n",
       "      <td>6.212933</td>\n",
       "      <td>6.820166</td>\n",
       "      <td>4.903176</td>\n",
       "      <td>2.723033</td>\n",
       "      <td>...</td>\n",
       "      <td>8.938768</td>\n",
       "      <td>8.390211</td>\n",
       "      <td>9.128623</td>\n",
       "      <td>5.530694</td>\n",
       "      <td>10.102687</td>\n",
       "      <td>10.214753</td>\n",
       "      <td>3.202101</td>\n",
       "      <td>9.014356</td>\n",
       "      <td>6.691092</td>\n",
       "      <td>7.044624</td>\n",
       "    </tr>\n",
       "    <tr>\n",
       "      <th>GSM1437856</th>\n",
       "      <td>5.451818</td>\n",
       "      <td>2.563685</td>\n",
       "      <td>7.120646</td>\n",
       "      <td>3.536281</td>\n",
       "      <td>6.823607</td>\n",
       "      <td>3.811454</td>\n",
       "      <td>6.355963</td>\n",
       "      <td>6.750754</td>\n",
       "      <td>4.378562</td>\n",
       "      <td>2.808022</td>\n",
       "      <td>...</td>\n",
       "      <td>9.405152</td>\n",
       "      <td>8.583493</td>\n",
       "      <td>8.928437</td>\n",
       "      <td>4.931727</td>\n",
       "      <td>10.065778</td>\n",
       "      <td>10.145170</td>\n",
       "      <td>3.048295</td>\n",
       "      <td>8.897494</td>\n",
       "      <td>6.835265</td>\n",
       "      <td>7.292721</td>\n",
       "    </tr>\n",
       "    <tr>\n",
       "      <th>GSM1437861</th>\n",
       "      <td>5.359950</td>\n",
       "      <td>3.588613</td>\n",
       "      <td>6.763786</td>\n",
       "      <td>3.503200</td>\n",
       "      <td>6.665591</td>\n",
       "      <td>3.563897</td>\n",
       "      <td>6.200817</td>\n",
       "      <td>6.980844</td>\n",
       "      <td>4.271369</td>\n",
       "      <td>2.410740</td>\n",
       "      <td>...</td>\n",
       "      <td>9.002586</td>\n",
       "      <td>8.505073</td>\n",
       "      <td>9.028018</td>\n",
       "      <td>5.981121</td>\n",
       "      <td>9.976774</td>\n",
       "      <td>10.153641</td>\n",
       "      <td>4.130884</td>\n",
       "      <td>8.840283</td>\n",
       "      <td>7.255947</td>\n",
       "      <td>7.394347</td>\n",
       "    </tr>\n",
       "  </tbody>\n",
       "</table>\n",
       "<p>5 rows × 29459 columns</p>\n",
       "</div>"
      ],
      "text/plain": [
       "                1_at     10_at    100_at   1000_at  10000_at  100009613_at  \\\n",
       "GSM1437810  5.511752  2.944549  7.512933  4.029314  6.564450      4.240846   \n",
       "GSM1437809  5.302418  2.977487  7.163658  4.153578  6.640959      4.657196   \n",
       "GSM1437857  5.553600  2.667715  6.893251  3.603015  6.697281      3.760056   \n",
       "GSM1437856  5.451818  2.563685  7.120646  3.536281  6.823607      3.811454   \n",
       "GSM1437861  5.359950  3.588613  6.763786  3.503200  6.665591      3.563897   \n",
       "\n",
       "            100009676_at  10001_at  10002_at  10003_at    ...      9987_at  \\\n",
       "GSM1437810      6.347655  6.801058  4.501354  2.713820    ...     8.762870   \n",
       "GSM1437809      6.421690  6.867667  4.334812  2.546507    ...     9.052456   \n",
       "GSM1437857      6.212933  6.820166  4.903176  2.723033    ...     8.938768   \n",
       "GSM1437856      6.355963  6.750754  4.378562  2.808022    ...     9.405152   \n",
       "GSM1437861      6.200817  6.980844  4.271369  2.410740    ...     9.002586   \n",
       "\n",
       "             9988_at   9989_at    999_at    9990_at    9991_at   9992_at  \\\n",
       "GSM1437810  8.106219  8.877520  5.932616  10.050322  10.306291  3.431962   \n",
       "GSM1437809  8.282753  8.872234  5.763782  10.193552  10.018784  3.569207   \n",
       "GSM1437857  8.390211  9.128623  5.530694  10.102687  10.214753  3.202101   \n",
       "GSM1437856  8.583493  8.928437  4.931727  10.065778  10.145170  3.048295   \n",
       "GSM1437861  8.505073  9.028018  5.981121   9.976774  10.153641  4.130884   \n",
       "\n",
       "             9993_at   9994_at   9997_at  \n",
       "GSM1437810  8.885501  6.566986  6.986337  \n",
       "GSM1437809  9.151631  6.463455  7.143755  \n",
       "GSM1437857  9.014356  6.691092  7.044624  \n",
       "GSM1437856  8.897494  6.835265  7.292721  \n",
       "GSM1437861  8.840283  7.255947  7.394347  \n",
       "\n",
       "[5 rows x 29459 columns]"
      ]
     },
     "execution_count": 8,
     "metadata": {},
     "output_type": "execute_result"
    }
   ],
   "source": [
    "gene_expression[pd.concat([sPTD_index, control_index])].T.head()"
   ]
  },
  {
   "cell_type": "code",
   "execution_count": 9,
   "metadata": {},
   "outputs": [],
   "source": [
    "gene_expression_label_sPTD = gene_expression[pd.concat([sPTD_index, control_index])].T.copy()\n",
    "gene_expression_label_sPTD['label'] = 0\n",
    "gene_expression_label_sPTD.loc[sPTD_index.values, 'label'] = 1"
   ]
  },
  {
   "cell_type": "code",
   "execution_count": 10,
   "metadata": {},
   "outputs": [],
   "source": [
    "X_sPTD = gene_expression_label_sPTD.drop('label', axis=1).values\n",
    "y_sPTD = gene_expression_label_sPTD['label'].values"
   ]
  },
  {
   "cell_type": "code",
   "execution_count": 11,
   "metadata": {},
   "outputs": [
    {
     "name": "stdout",
     "output_type": "stream",
     "text": [
      "(340, 29459)\n",
      "(340,)\n"
     ]
    }
   ],
   "source": [
    "print(X_sPTD.shape)\n",
    "print(y_sPTD.shape)"
   ]
  },
  {
   "cell_type": "code",
   "execution_count": 12,
   "metadata": {},
   "outputs": [],
   "source": [
    "X_sPTD_train, X_sPTD_test, y_sPTD_train, y_sPTD_test = train_test_split(X_sPTD, y_sPTD, test_size=0.33, random_state=934)"
   ]
  },
  {
   "cell_type": "raw",
   "metadata": {},
   "source": [
    "data balance: 55/739 = 0.07442489851150202"
   ]
  },
  {
   "cell_type": "markdown",
   "metadata": {},
   "source": [
    "### PPROM"
   ]
  },
  {
   "cell_type": "code",
   "execution_count": 13,
   "metadata": {},
   "outputs": [],
   "source": [
    "PPROM_index = annotation[(annotation['Group'] == 'PPROM') & (annotation['Train'] == 1)]['SampleID'] #95"
   ]
  },
  {
   "cell_type": "code",
   "execution_count": 14,
   "metadata": {},
   "outputs": [],
   "source": [
    "gene_expression_label_PPROM = gene_expression[pd.concat([PPROM_index, control_index])].T.copy()\n",
    "gene_expression_label_PPROM['label'] = 0\n",
    "gene_expression_label_PPROM.loc[PPROM_index.values, 'label'] = 1"
   ]
  },
  {
   "cell_type": "code",
   "execution_count": 15,
   "metadata": {},
   "outputs": [
    {
     "data": {
      "text/html": [
       "<div>\n",
       "<style scoped>\n",
       "    .dataframe tbody tr th:only-of-type {\n",
       "        vertical-align: middle;\n",
       "    }\n",
       "\n",
       "    .dataframe tbody tr th {\n",
       "        vertical-align: top;\n",
       "    }\n",
       "\n",
       "    .dataframe thead th {\n",
       "        text-align: right;\n",
       "    }\n",
       "</style>\n",
       "<table border=\"1\" class=\"dataframe\">\n",
       "  <thead>\n",
       "    <tr style=\"text-align: right;\">\n",
       "      <th></th>\n",
       "      <th>1_at</th>\n",
       "      <th>10_at</th>\n",
       "      <th>100_at</th>\n",
       "      <th>1000_at</th>\n",
       "      <th>10000_at</th>\n",
       "      <th>100009613_at</th>\n",
       "      <th>100009676_at</th>\n",
       "      <th>10001_at</th>\n",
       "      <th>10002_at</th>\n",
       "      <th>10003_at</th>\n",
       "      <th>...</th>\n",
       "      <th>9988_at</th>\n",
       "      <th>9989_at</th>\n",
       "      <th>999_at</th>\n",
       "      <th>9990_at</th>\n",
       "      <th>9991_at</th>\n",
       "      <th>9992_at</th>\n",
       "      <th>9993_at</th>\n",
       "      <th>9994_at</th>\n",
       "      <th>9997_at</th>\n",
       "      <th>label</th>\n",
       "    </tr>\n",
       "  </thead>\n",
       "  <tbody>\n",
       "    <tr>\n",
       "      <th>GSM1437845</th>\n",
       "      <td>5.554325</td>\n",
       "      <td>2.904265</td>\n",
       "      <td>7.070310</td>\n",
       "      <td>3.878922</td>\n",
       "      <td>6.704998</td>\n",
       "      <td>3.978187</td>\n",
       "      <td>6.304834</td>\n",
       "      <td>6.726574</td>\n",
       "      <td>4.805109</td>\n",
       "      <td>2.749964</td>\n",
       "      <td>...</td>\n",
       "      <td>8.299180</td>\n",
       "      <td>8.944558</td>\n",
       "      <td>5.857279</td>\n",
       "      <td>10.012442</td>\n",
       "      <td>10.116592</td>\n",
       "      <td>3.300714</td>\n",
       "      <td>8.639479</td>\n",
       "      <td>6.666284</td>\n",
       "      <td>6.927852</td>\n",
       "      <td>1</td>\n",
       "    </tr>\n",
       "    <tr>\n",
       "      <th>GSM1437844</th>\n",
       "      <td>5.262127</td>\n",
       "      <td>3.141959</td>\n",
       "      <td>7.276739</td>\n",
       "      <td>4.025887</td>\n",
       "      <td>6.670898</td>\n",
       "      <td>4.274706</td>\n",
       "      <td>6.255846</td>\n",
       "      <td>6.737841</td>\n",
       "      <td>4.792132</td>\n",
       "      <td>2.452819</td>\n",
       "      <td>...</td>\n",
       "      <td>8.264678</td>\n",
       "      <td>8.628172</td>\n",
       "      <td>5.843332</td>\n",
       "      <td>9.889747</td>\n",
       "      <td>10.000788</td>\n",
       "      <td>3.533001</td>\n",
       "      <td>8.786790</td>\n",
       "      <td>6.705775</td>\n",
       "      <td>6.988959</td>\n",
       "      <td>1</td>\n",
       "    </tr>\n",
       "    <tr>\n",
       "      <th>GSM1437886</th>\n",
       "      <td>5.571433</td>\n",
       "      <td>3.086845</td>\n",
       "      <td>6.797790</td>\n",
       "      <td>3.605881</td>\n",
       "      <td>6.484995</td>\n",
       "      <td>3.633618</td>\n",
       "      <td>6.141676</td>\n",
       "      <td>6.692825</td>\n",
       "      <td>4.652518</td>\n",
       "      <td>2.470244</td>\n",
       "      <td>...</td>\n",
       "      <td>8.285442</td>\n",
       "      <td>9.241060</td>\n",
       "      <td>6.011868</td>\n",
       "      <td>10.217460</td>\n",
       "      <td>10.407335</td>\n",
       "      <td>3.871044</td>\n",
       "      <td>9.100006</td>\n",
       "      <td>6.258081</td>\n",
       "      <td>7.167837</td>\n",
       "      <td>1</td>\n",
       "    </tr>\n",
       "    <tr>\n",
       "      <th>GSM1437885</th>\n",
       "      <td>5.450787</td>\n",
       "      <td>3.115800</td>\n",
       "      <td>6.670564</td>\n",
       "      <td>3.857079</td>\n",
       "      <td>6.715303</td>\n",
       "      <td>4.296487</td>\n",
       "      <td>6.432391</td>\n",
       "      <td>6.833692</td>\n",
       "      <td>4.005620</td>\n",
       "      <td>2.364114</td>\n",
       "      <td>...</td>\n",
       "      <td>8.241588</td>\n",
       "      <td>9.280465</td>\n",
       "      <td>6.024727</td>\n",
       "      <td>10.151052</td>\n",
       "      <td>10.000788</td>\n",
       "      <td>3.557081</td>\n",
       "      <td>9.081018</td>\n",
       "      <td>7.097500</td>\n",
       "      <td>7.239466</td>\n",
       "      <td>1</td>\n",
       "    </tr>\n",
       "    <tr>\n",
       "      <th>GSM1437894</th>\n",
       "      <td>5.926112</td>\n",
       "      <td>2.994637</td>\n",
       "      <td>7.400539</td>\n",
       "      <td>3.555315</td>\n",
       "      <td>6.640560</td>\n",
       "      <td>4.116319</td>\n",
       "      <td>6.425628</td>\n",
       "      <td>6.588750</td>\n",
       "      <td>4.597413</td>\n",
       "      <td>2.629174</td>\n",
       "      <td>...</td>\n",
       "      <td>8.378761</td>\n",
       "      <td>8.712465</td>\n",
       "      <td>5.778184</td>\n",
       "      <td>9.590988</td>\n",
       "      <td>9.922530</td>\n",
       "      <td>3.727725</td>\n",
       "      <td>8.258058</td>\n",
       "      <td>6.931918</td>\n",
       "      <td>7.105223</td>\n",
       "      <td>1</td>\n",
       "    </tr>\n",
       "  </tbody>\n",
       "</table>\n",
       "<p>5 rows × 29460 columns</p>\n",
       "</div>"
      ],
      "text/plain": [
       "                1_at     10_at    100_at   1000_at  10000_at  100009613_at  \\\n",
       "GSM1437845  5.554325  2.904265  7.070310  3.878922  6.704998      3.978187   \n",
       "GSM1437844  5.262127  3.141959  7.276739  4.025887  6.670898      4.274706   \n",
       "GSM1437886  5.571433  3.086845  6.797790  3.605881  6.484995      3.633618   \n",
       "GSM1437885  5.450787  3.115800  6.670564  3.857079  6.715303      4.296487   \n",
       "GSM1437894  5.926112  2.994637  7.400539  3.555315  6.640560      4.116319   \n",
       "\n",
       "            100009676_at  10001_at  10002_at  10003_at  ...     9988_at  \\\n",
       "GSM1437845      6.304834  6.726574  4.805109  2.749964  ...    8.299180   \n",
       "GSM1437844      6.255846  6.737841  4.792132  2.452819  ...    8.264678   \n",
       "GSM1437886      6.141676  6.692825  4.652518  2.470244  ...    8.285442   \n",
       "GSM1437885      6.432391  6.833692  4.005620  2.364114  ...    8.241588   \n",
       "GSM1437894      6.425628  6.588750  4.597413  2.629174  ...    8.378761   \n",
       "\n",
       "             9989_at    999_at    9990_at    9991_at   9992_at   9993_at  \\\n",
       "GSM1437845  8.944558  5.857279  10.012442  10.116592  3.300714  8.639479   \n",
       "GSM1437844  8.628172  5.843332   9.889747  10.000788  3.533001  8.786790   \n",
       "GSM1437886  9.241060  6.011868  10.217460  10.407335  3.871044  9.100006   \n",
       "GSM1437885  9.280465  6.024727  10.151052  10.000788  3.557081  9.081018   \n",
       "GSM1437894  8.712465  5.778184   9.590988   9.922530  3.727725  8.258058   \n",
       "\n",
       "             9994_at   9997_at  label  \n",
       "GSM1437845  6.666284  6.927852      1  \n",
       "GSM1437844  6.705775  6.988959      1  \n",
       "GSM1437886  6.258081  7.167837      1  \n",
       "GSM1437885  7.097500  7.239466      1  \n",
       "GSM1437894  6.931918  7.105223      1  \n",
       "\n",
       "[5 rows x 29460 columns]"
      ]
     },
     "execution_count": 15,
     "metadata": {},
     "output_type": "execute_result"
    }
   ],
   "source": [
    "gene_expression_label_PPROM.head()"
   ]
  },
  {
   "cell_type": "code",
   "execution_count": 16,
   "metadata": {},
   "outputs": [],
   "source": [
    "X_PPROM = gene_expression_label_PPROM.drop('label', axis=1).values\n",
    "y_PPROM = gene_expression_label_PPROM['label'].values"
   ]
  },
  {
   "cell_type": "code",
   "execution_count": 17,
   "metadata": {},
   "outputs": [
    {
     "name": "stdout",
     "output_type": "stream",
     "text": [
      "(380, 29459)\n",
      "(380,)\n"
     ]
    }
   ],
   "source": [
    "print(X_PPROM.shape)\n",
    "print(y_PPROM.shape)"
   ]
  },
  {
   "cell_type": "code",
   "execution_count": 18,
   "metadata": {},
   "outputs": [],
   "source": [
    "X_PPROM_train, X_PPROM_test, y_PPROM_train, y_PPROM_test = train_test_split(X_PPROM, y_PPROM, test_size=0.33, random_state=934)"
   ]
  },
  {
   "cell_type": "markdown",
   "metadata": {},
   "source": [
    "### Both"
   ]
  },
  {
   "cell_type": "code",
   "execution_count": 20,
   "metadata": {},
   "outputs": [],
   "source": [
    "gene_expression_label_both = gene_expression[pd.concat([sPTD_index, PPROM_index, control_index])].T.copy()\n",
    "gene_expression_label_both['label'] = 0\n",
    "gene_expression_label_both.loc[sPTD_index.values, 'label'] = 1\n",
    "gene_expression_label_both.loc[PPROM_index.values, 'label'] = 2"
   ]
  },
  {
   "cell_type": "code",
   "execution_count": 21,
   "metadata": {},
   "outputs": [],
   "source": [
    "X_both = gene_expression_label_both.drop('label', axis=1).values\n",
    "y_both = gene_expression_label_both['label'].values"
   ]
  },
  {
   "cell_type": "code",
   "execution_count": 22,
   "metadata": {},
   "outputs": [
    {
     "name": "stdout",
     "output_type": "stream",
     "text": [
      "(435, 29459)\n",
      "(435,)\n"
     ]
    }
   ],
   "source": [
    "print(X_both.shape)\n",
    "print(y_both.shape)"
   ]
  },
  {
   "cell_type": "markdown",
   "metadata": {
    "toc-hr-collapsed": true
   },
   "source": [
    "## Feature Selection"
   ]
  },
  {
   "cell_type": "markdown",
   "metadata": {},
   "source": [
    "[Selection results](https://docs.google.com/spreadsheets/d/1kUDmAP1k87cgVAhkUMkRdE7AvjauoFRekSFh-tTzGRQ/edit?usp=sharing)"
   ]
  },
  {
   "cell_type": "markdown",
   "metadata": {},
   "source": [
    "### std"
   ]
  },
  {
   "cell_type": "code",
   "execution_count": 65,
   "metadata": {},
   "outputs": [
    {
     "data": {
      "text/plain": [
       "Index(['105377885_at', '3127_at', '3050_at', '105377884_at', '28475_at',\n",
       "       '105376839_at', '102724528_at', '647859_at', '7280_at', '722_at',\n",
       "       ...\n",
       "       '6286_at', '28500_at', '391267_at', '107986485_at', '28943_at',\n",
       "       '9934_at', '79854_at', '3240_at', '2999_at', '26816_at'],\n",
       "      dtype='object', length=150)"
      ]
     },
     "execution_count": 65,
     "metadata": {},
     "output_type": "execute_result"
    }
   ],
   "source": [
    "gene_expression.std(axis=1).sort_values(ascending=False).head(150).index"
   ]
  },
  {
   "cell_type": "markdown",
   "metadata": {},
   "source": [
    "### Univariate Feature Selection"
   ]
  },
  {
   "cell_type": "markdown",
   "metadata": {},
   "source": [
    "[sklearn feature selection page](https://scikit-learn.org/stable/modules/feature_selection.html#univariate-feature-selection)"
   ]
  },
  {
   "cell_type": "code",
   "execution_count": 34,
   "metadata": {},
   "outputs": [],
   "source": [
    "from sklearn.feature_selection import SelectKBest\n",
    "from sklearn.feature_selection import chi2, f_classif, mutual_info_classif"
   ]
  },
  {
   "cell_type": "code",
   "execution_count": 34,
   "metadata": {},
   "outputs": [],
   "source": [
    "chi2_selector = SelectKBest(chi2, k=150)\n",
    "chi2_selector.fit(X_sPTD, y_sPTD) #SelectKBest(chi2, k=150).fit_transform(X_sPTD, y_sPTD)\n",
    "cols = chi2_selector.get_support(indices=True)"
   ]
  },
  {
   "cell_type": "code",
   "execution_count": 36,
   "metadata": {},
   "outputs": [
    {
     "data": {
      "text/plain": [
       "Index(['100049587_at', '100129792_at', '100130418_at', '100130520_at',\n",
       "       '100147834_at', '100158262_at', '100170227_at', '100287029_at',\n",
       "       '100288486_at', '100506159_at',\n",
       "       ...\n",
       "       '84777_at', '84873_at', '858_at', '8876_at', '91353_at', '91543_at',\n",
       "       '93035_at', '93474_at', '93978_at', '9732_at'],\n",
       "      dtype='object', length=150)"
      ]
     },
     "execution_count": 36,
     "metadata": {},
     "output_type": "execute_result"
    }
   ],
   "source": [
    "chi2_selected_cols_sPTD = gene_expression_label_sPTD.columns[cols]\n",
    "chi2_selected_cols_sPTD"
   ]
  },
  {
   "cell_type": "code",
   "execution_count": 46,
   "metadata": {},
   "outputs": [],
   "source": [
    "chi2_selector = SelectKBest(chi2, k=150)\n",
    "chi2_selector.fit(X_PPROM, y_PPROM) #SelectKBest(chi2, k=150).fit_transform(X_sPTD, y_sPTD)\n",
    "cols = chi2_selector.get_support(indices=True)"
   ]
  },
  {
   "cell_type": "code",
   "execution_count": 47,
   "metadata": {},
   "outputs": [
    {
     "data": {
      "text/plain": [
       "Index(['100049587_at', '100128590_at', '100287029_at', '100288486_at',\n",
       "       '100289635_at', '100302170_at', '100302279_at', '100313829_at',\n",
       "       '100379345_at', '100422896_at',\n",
       "       ...\n",
       "       '79056_at', '791115_at', '79854_at', '83857_at', '8781_at', '8807_at',\n",
       "       '8876_at', '932_at', '938_at', '9732_at'],\n",
       "      dtype='object', length=150)"
      ]
     },
     "execution_count": 47,
     "metadata": {},
     "output_type": "execute_result"
    }
   ],
   "source": [
    "chi2_selected_cols_PPROM = gene_expression_label_PPROM.columns[cols]\n",
    "chi2_selected_cols_PPROM"
   ]
  },
  {
   "cell_type": "code",
   "execution_count": 37,
   "metadata": {},
   "outputs": [],
   "source": [
    "chi2_selector = SelectKBest(chi2, k=150)\n",
    "chi2_selector.fit(X_both, y_both) #SelectKBest(chi2, k=150).fit_transform(X_sPTD, y_sPTD)\n",
    "cols = chi2_selector.get_support(indices=True)"
   ]
  },
  {
   "cell_type": "code",
   "execution_count": 38,
   "metadata": {},
   "outputs": [
    {
     "data": {
      "text/plain": [
       "Index(['100049587_at', '100128590_at', '100287029_at', '100288486_at',\n",
       "       '100302170_at', '100422896_at', '100506159_at', '100528020_at',\n",
       "       '100616152_at', '100616246_at',\n",
       "       ...\n",
       "       '820_at', '83857_at', '84771_at', '8781_at', '8807_at', '8876_at',\n",
       "       '91543_at', '932_at', '938_at', '9732_at'],\n",
       "      dtype='object', length=150)"
      ]
     },
     "execution_count": 38,
     "metadata": {},
     "output_type": "execute_result"
    }
   ],
   "source": [
    "chi2_selected_cols_both = gene_expression_label_both.columns[cols]\n",
    "chi2_selected_cols_both"
   ]
  },
  {
   "cell_type": "code",
   "execution_count": 49,
   "metadata": {},
   "outputs": [],
   "source": [
    "f_classif_selector = SelectKBest(f_classif, k=150)\n",
    "f_classif_selector.fit(X_sPTD, y_sPTD) #SelectKBest(chi2, k=150).fit_transform(X_sPTD, y_sPTD)\n",
    "cols = f_classif_selector.get_support(indices=True)"
   ]
  },
  {
   "cell_type": "code",
   "execution_count": 50,
   "metadata": {},
   "outputs": [
    {
     "data": {
      "text/plain": [
       "Index(['100049587_at', '100101490_at', '100287569_at', '100288486_at',\n",
       "       '10049_at', '100507634_at', '100874200_at', '10096_at', '10186_at',\n",
       "       '10236_at',\n",
       "       ...\n",
       "       '84777_at', '84899_at', '85027_at', '8732_at', '90231_at', '9220_at',\n",
       "       '93978_at', '9732_at', '9774_at', '9846_at'],\n",
       "      dtype='object', length=150)"
      ]
     },
     "execution_count": 50,
     "metadata": {},
     "output_type": "execute_result"
    }
   ],
   "source": [
    "f_classif_selected_cols_sPTD = gene_expression_label_sPTD.columns[cols]\n",
    "f_classif_selected_cols_sPTD"
   ]
  },
  {
   "cell_type": "code",
   "execution_count": 51,
   "metadata": {},
   "outputs": [],
   "source": [
    "f_classif_selector = SelectKBest(f_classif, k=150)\n",
    "f_classif_selector.fit(X_PPROM, y_PPROM) #SelectKBest(chi2, k=150).fit_transform(X_sPTD, y_sPTD)\n",
    "cols = f_classif_selector.get_support(indices=True)"
   ]
  },
  {
   "cell_type": "code",
   "execution_count": 52,
   "metadata": {},
   "outputs": [
    {
     "data": {
      "text/plain": [
       "Index(['10011_at', '100126313_at', '100128590_at', '100233209_at',\n",
       "       '100289635_at', '101927415_at', '105369595_at', '105372482_at',\n",
       "       '10557_at', '106144535_at',\n",
       "       ...\n",
       "       '919_at', '92285_at', '9524_at', '96459_at', '9653_at', '9693_at',\n",
       "       '9732_at', '9760_at', '977_at', '9861_at'],\n",
       "      dtype='object', length=150)"
      ]
     },
     "execution_count": 52,
     "metadata": {},
     "output_type": "execute_result"
    }
   ],
   "source": [
    "f_classif_selected_cols_PPROM = gene_expression_label_PPROM.columns[cols]\n",
    "f_classif_selected_cols_PPROM"
   ]
  },
  {
   "cell_type": "code",
   "execution_count": 44,
   "metadata": {},
   "outputs": [],
   "source": [
    "f_classif_selector = SelectKBest(f_classif, k=150)\n",
    "f_classif_selector.fit(X_both, y_both) #SelectKBest(chi2, k=150).fit_transform(X_sPTD, y_sPTD)\n",
    "cols = f_classif_selector.get_support(indices=True)"
   ]
  },
  {
   "cell_type": "code",
   "execution_count": 45,
   "metadata": {},
   "outputs": [
    {
     "data": {
      "text/plain": [
       "Index(['10011_at', '100128590_at', '100287569_at', '100288486_at', '10096_at',\n",
       "       '10186_at', '10385_at', '10492_at', '105369595_at', '105369609_at',\n",
       "       ...\n",
       "       '8934_at', '8935_at', '9022_at', '917_at', '9220_at', '9524_at',\n",
       "       '9693_at', '9697_at', '9732_at', '9846_at'],\n",
       "      dtype='object', length=150)"
      ]
     },
     "execution_count": 45,
     "metadata": {},
     "output_type": "execute_result"
    }
   ],
   "source": [
    "f_classif_selected_cols_both = gene_expression_label_both.columns[cols]\n",
    "f_classif_selected_cols_both"
   ]
  },
  {
   "cell_type": "code",
   "execution_count": 55,
   "metadata": {},
   "outputs": [],
   "source": [
    "mutual_info_classif_selector = SelectKBest(mutual_info_classif, k=150)\n",
    "mutual_info_classif_selector.fit(X_sPTD, y_sPTD) #SelectKBest(chi2, k=150).fit_transform(X_sPTD, y_sPTD)\n",
    "cols = mutual_info_classif_selector.get_support(indices=True)"
   ]
  },
  {
   "cell_type": "code",
   "execution_count": 57,
   "metadata": {},
   "outputs": [
    {
     "data": {
      "text/plain": [
       "Index(['100124412_at', '100127905_at', '100130520_at', '10022_at',\n",
       "       '100289388_at', '100289473_at', '100505933_at', '100506755_at',\n",
       "       '100507562_at', '10051_at',\n",
       "       ...\n",
       "       '9126_at', '9156_at', '92799_at', '9318_at', '94236_at', '9515_at',\n",
       "       '9547_at', '9826_at', '9871_at', '990_at'],\n",
       "      dtype='object', length=150)"
      ]
     },
     "execution_count": 57,
     "metadata": {},
     "output_type": "execute_result"
    }
   ],
   "source": [
    "mutual_info_classif_selected_cols_sPTD = gene_expression_label_sPTD.columns[cols]\n",
    "mutual_info_classif_selected_cols_sPTD"
   ]
  },
  {
   "cell_type": "code",
   "execution_count": 59,
   "metadata": {},
   "outputs": [],
   "source": [
    "mutual_info_classif_selector = SelectKBest(mutual_info_classif, k=150)\n",
    "mutual_info_classif_selector.fit(X_PPROM, y_PPROM) #SelectKBest(chi2, k=150).fit_transform(X_sPTD, y_sPTD)\n",
    "cols = mutual_info_classif_selector.get_support(indices=True)"
   ]
  },
  {
   "cell_type": "code",
   "execution_count": 60,
   "metadata": {},
   "outputs": [
    {
     "data": {
      "text/plain": [
       "Index(['100129094_at', '100129827_at', '100499405_at', '100500816_at',\n",
       "       '100506190_at', '100507347_at', '100874084_at', '101060691_at',\n",
       "       '101927311_at', '101927334_at',\n",
       "       ...\n",
       "       '8553_at', '915_at', '923_at', '924_at', '92815_at', '9636_at',\n",
       "       '9810_at', '9834_at', '9968_at', '997_at'],\n",
       "      dtype='object', length=150)"
      ]
     },
     "execution_count": 60,
     "metadata": {},
     "output_type": "execute_result"
    }
   ],
   "source": [
    "mutual_info_classif_selected_cols_PPROM = gene_expression_label_PPROM.columns[cols]\n",
    "mutual_info_classif_selected_cols_PPROM"
   ]
  },
  {
   "cell_type": "code",
   "execution_count": 50,
   "metadata": {},
   "outputs": [],
   "source": [
    "mutual_info_classif_selector = SelectKBest(mutual_info_classif, k=150)\n",
    "mutual_info_classif_selector.fit(X_both, y_both) #SelectKBest(chi2, k=150).fit_transform(X_sPTD, y_sPTD)\n",
    "cols = mutual_info_classif_selector.get_support(indices=True)"
   ]
  },
  {
   "cell_type": "code",
   "execution_count": 51,
   "metadata": {},
   "outputs": [
    {
     "data": {
      "text/plain": [
       "Index(['100124412_at', '100126308_at', '100129827_at', '100130872_at',\n",
       "       '100302135_at', '100505933_at', '100506190_at', '100506755_at',\n",
       "       '100506930_at', '100507043_at',\n",
       "       ...\n",
       "       '85409_at', '8883_at', '89795_at', '9107_at', '92285_at', '924_at',\n",
       "       '93978_at', '94236_at', '9515_at', '9968_at'],\n",
       "      dtype='object', length=150)"
      ]
     },
     "execution_count": 51,
     "metadata": {},
     "output_type": "execute_result"
    }
   ],
   "source": [
    "mutual_info_classif_selected_cols_both = gene_expression_label_both.columns[cols]\n",
    "mutual_info_classif_selected_cols_both"
   ]
  },
  {
   "cell_type": "code",
   "execution_count": 52,
   "metadata": {},
   "outputs": [],
   "source": [
    "pd.Series(mutual_info_classif_selected_cols_both).to_csv('./selected_col.txt', sep='\\n', index=None)"
   ]
  },
  {
   "cell_type": "markdown",
   "metadata": {},
   "source": [
    "### Multivariate Feature Selection"
   ]
  },
  {
   "cell_type": "markdown",
   "metadata": {},
   "source": [
    "[more than multivaraite feature selection](https://towardsdatascience.com/feature-selection-techniques-for-classification-and-python-tips-for-their-application-10c0ddd7918b#targetText=mRMR,and%20the%20correlations%20between%20them.)"
   ]
  },
  {
   "cell_type": "markdown",
   "metadata": {},
   "source": [
    "This method requires 3 input parameters:\n",
    "\n",
    "* First parameter is a pandas DataFrame containing the input dataset, discretised as defined in the original paper (for ref. see http://home.penglab.com/proj/mRMR/). The rows of the dataset are the different samples. The first column is the classification (target) variable for each sample. The remaining columns are the different variables (features) which may be selected by the algorithm. (see \"Sample Data Sets\" at http://home.penglab.com/proj/mRMR/ to download sample dataset to test this algorithm);\n",
    "* Second parameter is a string which defines the internal Feature Selection method to use (defined in the original paper): possible values are \"MIQ\" or \"MID\";\n",
    "* Third parameter is an integer which defines the number of features that should be selected by the algorithm.\n",
    "\n",
    "The return value is a list containing the names of the selected features.\n",
    "\n",
    "The following is an example of execution:\n",
    "\n",
    "```\n",
    "In [1]: import pandas as pd\n",
    "\n",
    "In [2]: import pymrmr\n",
    "\n",
    "In [3]: df = pd.read_csv('test_colon_s3.csv')\n",
    "\n",
    "In [4]: pymrmr.mRMR(df, 'MIQ', 10)\n",
    "```"
   ]
  },
  {
   "cell_type": "code",
   "execution_count": 54,
   "metadata": {},
   "outputs": [],
   "source": [
    "import pymrmr"
   ]
  },
  {
   "cell_type": "code",
   "execution_count": 23,
   "metadata": {},
   "outputs": [],
   "source": [
    "cols = gene_expression_label_sPTD.columns.tolist()\n",
    "cols = cols[-1:] + cols[0:-1]"
   ]
  },
  {
   "cell_type": "markdown",
   "metadata": {},
   "source": [
    "note: we decided to run this using their standalone C++ version since python version is slow  \n",
    "can be downloaded [here](http://home.penglab.com/proj/mRMR/#c++)"
   ]
  },
  {
   "cell_type": "code",
   "execution_count": null,
   "metadata": {},
   "outputs": [],
   "source": [
    "sPTD_cols_mrmr = pymrmr.mRMR(gene_expression_label_sPTD[cols], 'MIQ', 150)"
   ]
  },
  {
   "cell_type": "code",
   "execution_count": null,
   "metadata": {},
   "outputs": [],
   "source": [
    "PPROM_cols_mrmr = pymrmr.mRMR(gene_expression_label_PPROM[cols], 'MIQ', 150)"
   ]
  },
  {
   "cell_type": "code",
   "execution_count": null,
   "metadata": {},
   "outputs": [],
   "source": [
    "both_cols_mrmr = pymrmr.mRMR(gene_expression_label_both[cols], 'MIQ', 150)"
   ]
  },
  {
   "cell_type": "code",
   "execution_count": null,
   "metadata": {},
   "outputs": [],
   "source": [
    "pd.Series(sPTD_cols_mrmr).to_csv('./selected_col_sPTD.txt', sep='\\n', index=None)"
   ]
  },
  {
   "cell_type": "code",
   "execution_count": null,
   "metadata": {},
   "outputs": [],
   "source": [
    "pd.Series(PPROM_cols_mrmr).to_csv('./selected_col_PPROM.txt', sep='\\n', index=None)"
   ]
  },
  {
   "cell_type": "code",
   "execution_count": null,
   "metadata": {},
   "outputs": [],
   "source": [
    "pd.Series(both_cols_mrmr).to_csv('./selected_col_both.txt', sep='\\n', index=None)"
   ]
  },
  {
   "cell_type": "markdown",
   "metadata": {
    "toc-hr-collapsed": true
   },
   "source": [
    "## Model Development"
   ]
  },
  {
   "cell_type": "markdown",
   "metadata": {},
   "source": [
    "#### First try"
   ]
  },
  {
   "cell_type": "code",
   "execution_count": 38,
   "metadata": {},
   "outputs": [
    {
     "data": {
      "text/plain": [
       "RandomForestClassifier(bootstrap=True, class_weight=None, criterion='gini',\n",
       "            max_depth=None, max_features='auto', max_leaf_nodes=16,\n",
       "            min_impurity_decrease=0.0, min_impurity_split=None,\n",
       "            min_samples_leaf=1, min_samples_split=2,\n",
       "            min_weight_fraction_leaf=0.0, n_estimators=500, n_jobs=10,\n",
       "            oob_score=False, random_state=None, verbose=0,\n",
       "            warm_start=False)"
      ]
     },
     "execution_count": 38,
     "metadata": {},
     "output_type": "execute_result"
    }
   ],
   "source": [
    "rnd_clf_sPTD = RandomForestClassifier(n_estimators = 500, max_leaf_nodes=16, n_jobs=10) \n",
    "rnd_clf_sPTD.fit(X_sPTD_train, y_sPTD_train)"
   ]
  },
  {
   "cell_type": "code",
   "execution_count": 47,
   "metadata": {},
   "outputs": [
    {
     "name": "stdout",
     "output_type": "stream",
     "text": [
      "0.758843537414966\n",
      "0.38729490861907245\n"
     ]
    }
   ],
   "source": [
    "pred_prob = rnd_clf_sPTD.predict_proba(X_sPTD_test)[:, 1]\n",
    "print(roc_auc_score(y_sPTD_test, pred_prob))\n",
    "print(average_precision_score(y_sPTD_test, pred_prob))"
   ]
  },
  {
   "cell_type": "code",
   "execution_count": 42,
   "metadata": {},
   "outputs": [
    {
     "data": {
      "text/plain": [
       "RandomForestClassifier(bootstrap=True, class_weight=None, criterion='gini',\n",
       "            max_depth=None, max_features='auto', max_leaf_nodes=16,\n",
       "            min_impurity_decrease=0.0, min_impurity_split=None,\n",
       "            min_samples_leaf=1, min_samples_split=2,\n",
       "            min_weight_fraction_leaf=0.0, n_estimators=500, n_jobs=10,\n",
       "            oob_score=False, random_state=None, verbose=0,\n",
       "            warm_start=False)"
      ]
     },
     "execution_count": 42,
     "metadata": {},
     "output_type": "execute_result"
    }
   ],
   "source": [
    "rnd_clf_PPROM = RandomForestClassifier(n_estimators = 500, max_leaf_nodes=16, n_jobs=10) \n",
    "rnd_clf_PPROM.fit(X_PPROM_train, y_PPROM_train)"
   ]
  },
  {
   "cell_type": "code",
   "execution_count": 43,
   "metadata": {},
   "outputs": [
    {
     "name": "stdout",
     "output_type": "stream",
     "text": [
      "0.7060078208318521\n",
      "0.44850157643427896\n"
     ]
    }
   ],
   "source": [
    "pred_prob = rnd_clf_PPROM.predict_proba(X_PPROM_test)[:, 1]\n",
    "print(roc_auc_score(y_PPROM_test, pred_prob))\n",
    "print(average_precision_score(y_PPROM_test, pred_prob))"
   ]
  },
  {
   "cell_type": "markdown",
   "metadata": {},
   "source": [
    "#### Tune hyperparameters"
   ]
  },
  {
   "cell_type": "code",
   "execution_count": 47,
   "metadata": {},
   "outputs": [],
   "source": [
    "param_dist = {\"max_leaf_nodes\": np.arange(10, 40).tolist()+[None],\n",
    "              \"criterion\": [\"gini\", \"entropy\"], \n",
    "              'n_estimators': [100, 200, 500, 600, 700, 1000]}"
   ]
  },
  {
   "cell_type": "code",
   "execution_count": 48,
   "metadata": {},
   "outputs": [],
   "source": [
    "rnd_clf = RandomForestClassifier(n_jobs=40)"
   ]
  },
  {
   "cell_type": "code",
   "execution_count": 49,
   "metadata": {},
   "outputs": [],
   "source": [
    "rnd_clf_cv = RandomizedSearchCV(rnd_clf, param_dist, cv=5)"
   ]
  },
  {
   "cell_type": "code",
   "execution_count": 50,
   "metadata": {},
   "outputs": [
    {
     "data": {
      "text/plain": [
       "RandomizedSearchCV(cv=5, error_score='raise-deprecating',\n",
       "          estimator=RandomForestClassifier(bootstrap=True, class_weight=None, criterion='gini',\n",
       "            max_depth=None, max_features='auto', max_leaf_nodes=None,\n",
       "            min_impurity_decrease=0.0, min_impurity_split=None,\n",
       "            min_samples_leaf=1, min_samples_split=2,\n",
       "            min_weight_fraction_leaf=0.0, n_estimators='warn', n_jobs=40,\n",
       "            oob_score=False, random_state=None, verbose=0,\n",
       "            warm_start=False),\n",
       "          fit_params=None, iid='warn', n_iter=10, n_jobs=None,\n",
       "          param_distributions={'max_leaf_nodes': [10, 11, 12, 13, 14, 15, 16, 17, 18, 19, 20, 21, 22, 23, 24, 25, 26, 27, 28, 29, 30, 31, 32, 33, 34, 35, 36, 37, 38, 39, None], 'criterion': ['gini', 'entropy'], 'n_estimators': [100, 200, 500, 600, 700, 1000]},\n",
       "          pre_dispatch='2*n_jobs', random_state=None, refit=True,\n",
       "          return_train_score='warn', scoring=None, verbose=0)"
      ]
     },
     "execution_count": 50,
     "metadata": {},
     "output_type": "execute_result"
    }
   ],
   "source": [
    "rnd_clf_cv.fit(X_sPTD,y_sPTD)"
   ]
  },
  {
   "cell_type": "code",
   "execution_count": 51,
   "metadata": {},
   "outputs": [
    {
     "name": "stdout",
     "output_type": "stream",
     "text": [
      "Tuned RF Parameters: {'n_estimators': 100, 'max_leaf_nodes': 23, 'criterion': 'entropy'}\n",
      "Best score is 0.8411764705882353\n"
     ]
    }
   ],
   "source": [
    "print(\"Tuned RF Parameters: {}\".format(rnd_clf_cv.best_params_))\n",
    "print(\"Best score is {}\".format(rnd_clf_cv.best_score_))"
   ]
  },
  {
   "cell_type": "code",
   "execution_count": 52,
   "metadata": {},
   "outputs": [],
   "source": [
    "rnd_clf = RandomForestClassifier(n_jobs=40)"
   ]
  },
  {
   "cell_type": "code",
   "execution_count": 53,
   "metadata": {},
   "outputs": [],
   "source": [
    "rnd_clf_cv = RandomizedSearchCV(rnd_clf, param_dist, cv=5)"
   ]
  },
  {
   "cell_type": "code",
   "execution_count": 54,
   "metadata": {},
   "outputs": [
    {
     "data": {
      "text/plain": [
       "RandomizedSearchCV(cv=5, error_score='raise-deprecating',\n",
       "          estimator=RandomForestClassifier(bootstrap=True, class_weight=None, criterion='gini',\n",
       "            max_depth=None, max_features='auto', max_leaf_nodes=None,\n",
       "            min_impurity_decrease=0.0, min_impurity_split=None,\n",
       "            min_samples_leaf=1, min_samples_split=2,\n",
       "            min_weight_fraction_leaf=0.0, n_estimators='warn', n_jobs=40,\n",
       "            oob_score=False, random_state=None, verbose=0,\n",
       "            warm_start=False),\n",
       "          fit_params=None, iid='warn', n_iter=10, n_jobs=None,\n",
       "          param_distributions={'max_leaf_nodes': [10, 11, 12, 13, 14, 15, 16, 17, 18, 19, 20, 21, 22, 23, 24, 25, 26, 27, 28, 29, 30, 31, 32, 33, 34, 35, 36, 37, 38, 39, None], 'criterion': ['gini', 'entropy'], 'n_estimators': [100, 200, 500, 600, 700, 1000]},\n",
       "          pre_dispatch='2*n_jobs', random_state=None, refit=True,\n",
       "          return_train_score='warn', scoring=None, verbose=0)"
      ]
     },
     "execution_count": 54,
     "metadata": {},
     "output_type": "execute_result"
    }
   ],
   "source": [
    "rnd_clf_cv.fit(X_PPROM,y_PPROM)"
   ]
  },
  {
   "cell_type": "code",
   "execution_count": 55,
   "metadata": {},
   "outputs": [
    {
     "name": "stdout",
     "output_type": "stream",
     "text": [
      "Tuned RF Parameters: {'n_estimators': 600, 'max_leaf_nodes': 14, 'criterion': 'entropy'}\n",
      "Best score is 0.7526315789473684\n"
     ]
    }
   ],
   "source": [
    "print(\"Tuned RF Parameters: {}\".format(rnd_clf_cv.best_params_))\n",
    "print(\"Best score is {}\".format(rnd_clf_cv.best_score_))"
   ]
  },
  {
   "cell_type": "markdown",
   "metadata": {},
   "source": [
    "#### Recursive elimination of features"
   ]
  },
  {
   "cell_type": "code",
   "execution_count": 81,
   "metadata": {},
   "outputs": [],
   "source": [
    "rnd_clf = RandomForestClassifier(n_estimators = 1000, max_leaf_nodes=10, criterion='entropy', n_jobs=40)"
   ]
  },
  {
   "cell_type": "code",
   "execution_count": 82,
   "metadata": {},
   "outputs": [],
   "source": [
    "selector = RFE(rnd_clf, 150, step=50, verbose=True)"
   ]
  },
  {
   "cell_type": "code",
   "execution_count": 83,
   "metadata": {},
   "outputs": [
    {
     "data": {
      "text/plain": [
       "RFE(estimator=RandomForestClassifier(bootstrap=True, class_weight=None, criterion='entropy',\n",
       "            max_depth=None, max_features='auto', max_leaf_nodes=10,\n",
       "            min_impurity_decrease=0.0, min_impurity_split=None,\n",
       "            min_samples_leaf=1, min_samples_split=2,\n",
       "            min_weight_fraction_leaf=0.0, n_estimators=1000, n_jobs=40,\n",
       "            oob_score=False, random_state=None, verbose=0,\n",
       "            warm_start=False),\n",
       "  n_features_to_select=10000, step=5000, verbose=0)"
      ]
     },
     "execution_count": 83,
     "metadata": {},
     "output_type": "execute_result"
    }
   ],
   "source": [
    "selector.fit(X_both, y_both)"
   ]
  },
  {
   "cell_type": "code",
   "execution_count": 86,
   "metadata": {},
   "outputs": [],
   "source": [
    "pd.Series(selector.support_).to_csv('./re_selected_cols.csv', index=None, header=None)"
   ]
  },
  {
   "cell_type": "markdown",
   "metadata": {},
   "source": [
    "#### Performance with recursive elimination selected features"
   ]
  },
  {
   "cell_type": "code",
   "execution_count": 67,
   "metadata": {},
   "outputs": [],
   "source": [
    "re_selected_cols = pd.read_csv('./gene_selection_process/re_selected_100_cols_stepsize50.csv', header=None).values.reshape(-1,)"
   ]
  },
  {
   "cell_type": "code",
   "execution_count": 59,
   "metadata": {},
   "outputs": [
    {
     "data": {
      "text/plain": [
       "(29459,)"
      ]
     },
     "execution_count": 59,
     "metadata": {},
     "output_type": "execute_result"
    }
   ],
   "source": [
    "re_selected_cols.shape"
   ]
  },
  {
   "cell_type": "raw",
   "metadata": {},
   "source": [
    "top_150_cols_index = np.argsort(pd.read_csv('./re_selected_150_cols_ranking.csv', header=None).values.reshape(-1,))[:150].copy()\n",
    "pd.Series(gene_expression_label_both.columns[top_150_cols_index]).to_csv('./selected_cols.csv', sep='\\n', index=None)"
   ]
  },
  {
   "cell_type": "raw",
   "metadata": {},
   "source": [
    "pd.Series(gene_expression_label_both.columns[:-1][re_selected_cols]).to_csv('./selected_cols.csv', sep='\\n', index=None)"
   ]
  },
  {
   "cell_type": "code",
   "execution_count": 80,
   "metadata": {},
   "outputs": [],
   "source": [
    "re_selected_cols = selector.support_"
   ]
  },
  {
   "cell_type": "code",
   "execution_count": 32,
   "metadata": {},
   "outputs": [
    {
     "data": {
      "text/plain": [
       "array([False, False, False, ..., False, False, False])"
      ]
     },
     "execution_count": 32,
     "metadata": {},
     "output_type": "execute_result"
    }
   ],
   "source": [
    "re_selected_cols"
   ]
  },
  {
   "cell_type": "code",
   "execution_count": 97,
   "metadata": {},
   "outputs": [
    {
     "data": {
      "text/plain": [
       "RandomForestClassifier(bootstrap=True, class_weight=None, criterion='entropy',\n",
       "            max_depth=None, max_features='auto', max_leaf_nodes=10,\n",
       "            min_impurity_decrease=0.0, min_impurity_split=None,\n",
       "            min_samples_leaf=1, min_samples_split=2,\n",
       "            min_weight_fraction_leaf=0.0, n_estimators=1000, n_jobs=40,\n",
       "            oob_score=False, random_state=None, verbose=0,\n",
       "            warm_start=False)"
      ]
     },
     "execution_count": 97,
     "metadata": {},
     "output_type": "execute_result"
    }
   ],
   "source": [
    "rnd_clf_sPTD = RandomForestClassifier(n_estimators = 1000, max_leaf_nodes=10, n_jobs=40, criterion='entropy') \n",
    "rnd_clf_sPTD.fit(X_sPTD_train[:, re_selected_cols], y_sPTD_train)"
   ]
  },
  {
   "cell_type": "code",
   "execution_count": 98,
   "metadata": {},
   "outputs": [
    {
     "name": "stdout",
     "output_type": "stream",
     "text": [
      "0.9170068027210885\n",
      "0.6360412205681292\n"
     ]
    }
   ],
   "source": [
    "pred_prob = rnd_clf_sPTD.predict_proba(X_sPTD_test[:, re_selected_cols])[:, 1]\n",
    "print(roc_auc_score(y_sPTD_test, pred_prob))\n",
    "print(average_precision_score(y_sPTD_test, pred_prob))"
   ]
  },
  {
   "cell_type": "code",
   "execution_count": 99,
   "metadata": {},
   "outputs": [
    {
     "data": {
      "text/plain": [
       "RandomForestClassifier(bootstrap=True, class_weight=None, criterion='entropy',\n",
       "            max_depth=None, max_features='auto', max_leaf_nodes=10,\n",
       "            min_impurity_decrease=0.0, min_impurity_split=None,\n",
       "            min_samples_leaf=1, min_samples_split=2,\n",
       "            min_weight_fraction_leaf=0.0, n_estimators=1000, n_jobs=40,\n",
       "            oob_score=False, random_state=None, verbose=0,\n",
       "            warm_start=False)"
      ]
     },
     "execution_count": 99,
     "metadata": {},
     "output_type": "execute_result"
    }
   ],
   "source": [
    "rnd_clf_PPROM = RandomForestClassifier(n_estimators = 1000, max_leaf_nodes=10, n_jobs=40, criterion='entropy') \n",
    "rnd_clf_PPROM.fit(X_PPROM_train[:, re_selected_cols], y_PPROM_train)"
   ]
  },
  {
   "cell_type": "code",
   "execution_count": 100,
   "metadata": {},
   "outputs": [
    {
     "name": "stdout",
     "output_type": "stream",
     "text": [
      "0.9278350515463918\n",
      "0.8105261267108086\n"
     ]
    }
   ],
   "source": [
    "pred_prob = rnd_clf_PPROM.predict_proba(X_PPROM_test[:, re_selected_cols])[:, 1]\n",
    "print(roc_auc_score(y_PPROM_test, pred_prob))\n",
    "print(average_precision_score(y_PPROM_test, pred_prob))"
   ]
  },
  {
   "cell_type": "markdown",
   "metadata": {},
   "source": [
    "#### Tune hyperparameters with recursive elimination selected features"
   ]
  },
  {
   "cell_type": "code",
   "execution_count": 102,
   "metadata": {},
   "outputs": [],
   "source": [
    "param_dist = {\"max_leaf_nodes\": np.arange(5, 40).tolist()+[None],\n",
    "              \"criterion\": [\"gini\", \"entropy\"], \n",
    "              'n_estimators': np.arange(100, 2000, 10)}"
   ]
  },
  {
   "cell_type": "code",
   "execution_count": 103,
   "metadata": {},
   "outputs": [],
   "source": [
    "rnd_clf = RandomForestClassifier()"
   ]
  },
  {
   "cell_type": "code",
   "execution_count": 104,
   "metadata": {},
   "outputs": [],
   "source": [
    "rnd_clf_cv = RandomizedSearchCV(rnd_clf, param_dist, cv=5, scoring='roc_auc', random_state=934, n_jobs=40)"
   ]
  },
  {
   "cell_type": "code",
   "execution_count": 105,
   "metadata": {},
   "outputs": [
    {
     "data": {
      "text/plain": [
       "RandomizedSearchCV(cv=5, error_score='raise-deprecating',\n",
       "          estimator=RandomForestClassifier(bootstrap=True, class_weight=None, criterion='gini',\n",
       "            max_depth=None, max_features='auto', max_leaf_nodes=None,\n",
       "            min_impurity_decrease=0.0, min_impurity_split=None,\n",
       "            min_samples_leaf=1, min_samples_split=2,\n",
       "            min_weight_fraction_leaf=0.0, n_estimators='warn', n_jobs=None,\n",
       "            oob_score=False, random_state=None, verbose=0,\n",
       "            warm_start=False),\n",
       "          fit_params=None, iid='warn', n_iter=10, n_jobs=40,\n",
       "          param_distributions={'max_leaf_nodes': [5, 6, 7, 8, 9, 10, 11, 12, 13, 14, 15, 16, 17, 18, 19, 20, 21, 22, 23, 24, 25, 26, 27, 28, 29, 30, 31, 32, 33, 34, 35, 36, 37, 38, 39, None], 'criterion': ['gini', 'entropy'], 'n_estimators': array([ 100,  110, ..., 1980, 1990])},\n",
       "          pre_dispatch='2*n_jobs', random_state=934, refit=True,\n",
       "          return_train_score='warn', scoring='roc_auc', verbose=0)"
      ]
     },
     "execution_count": 105,
     "metadata": {},
     "output_type": "execute_result"
    }
   ],
   "source": [
    "rnd_clf_cv.fit(X_sPTD[:, re_selected_cols],y_sPTD)"
   ]
  },
  {
   "cell_type": "code",
   "execution_count": 106,
   "metadata": {},
   "outputs": [
    {
     "name": "stdout",
     "output_type": "stream",
     "text": [
      "Tuned RF Parameters: {'n_estimators': 1210, 'max_leaf_nodes': 33, 'criterion': 'entropy'}\n",
      "Best score is 0.9360446570972887\n"
     ]
    }
   ],
   "source": [
    "print(\"Tuned RF Parameters: {}\".format(rnd_clf_cv.best_params_))\n",
    "print(\"Best score is {}\".format(rnd_clf_cv.best_score_))"
   ]
  },
  {
   "cell_type": "code",
   "execution_count": 107,
   "metadata": {},
   "outputs": [],
   "source": [
    "rnd_clf_cv = RandomizedSearchCV(rnd_clf, param_dist, cv=5, scoring='roc_auc', n_jobs=40)"
   ]
  },
  {
   "cell_type": "code",
   "execution_count": 108,
   "metadata": {},
   "outputs": [
    {
     "data": {
      "text/plain": [
       "RandomizedSearchCV(cv=5, error_score='raise-deprecating',\n",
       "          estimator=RandomForestClassifier(bootstrap=True, class_weight=None, criterion='gini',\n",
       "            max_depth=None, max_features='auto', max_leaf_nodes=None,\n",
       "            min_impurity_decrease=0.0, min_impurity_split=None,\n",
       "            min_samples_leaf=1, min_samples_split=2,\n",
       "            min_weight_fraction_leaf=0.0, n_estimators='warn', n_jobs=None,\n",
       "            oob_score=False, random_state=None, verbose=0,\n",
       "            warm_start=False),\n",
       "          fit_params=None, iid='warn', n_iter=10, n_jobs=40,\n",
       "          param_distributions={'max_leaf_nodes': [5, 6, 7, 8, 9, 10, 11, 12, 13, 14, 15, 16, 17, 18, 19, 20, 21, 22, 23, 24, 25, 26, 27, 28, 29, 30, 31, 32, 33, 34, 35, 36, 37, 38, 39, None], 'criterion': ['gini', 'entropy'], 'n_estimators': array([ 100,  110, ..., 1980, 1990])},\n",
       "          pre_dispatch='2*n_jobs', random_state=None, refit=True,\n",
       "          return_train_score='warn', scoring='roc_auc', verbose=0)"
      ]
     },
     "execution_count": 108,
     "metadata": {},
     "output_type": "execute_result"
    }
   ],
   "source": [
    "rnd_clf_cv.fit(X_PPROM[:, re_selected_cols],y_PPROM)"
   ]
  },
  {
   "cell_type": "code",
   "execution_count": 109,
   "metadata": {},
   "outputs": [
    {
     "name": "stdout",
     "output_type": "stream",
     "text": [
      "Tuned RF Parameters: {'n_estimators': 1050, 'max_leaf_nodes': 33, 'criterion': 'entropy'}\n",
      "Best score is 0.8784856879039704\n"
     ]
    }
   ],
   "source": [
    "print(\"Tuned RF Parameters: {}\".format(rnd_clf_cv.best_params_))\n",
    "print(\"Best score is {}\".format(rnd_clf_cv.best_score_))"
   ]
  },
  {
   "cell_type": "markdown",
   "metadata": {},
   "source": [
    "#### Final decision"
   ]
  },
  {
   "cell_type": "code",
   "execution_count": 110,
   "metadata": {},
   "outputs": [
    {
     "data": {
      "text/plain": [
       "RandomForestClassifier(bootstrap=True, class_weight=None, criterion='entropy',\n",
       "            max_depth=None, max_features='auto', max_leaf_nodes=30,\n",
       "            min_impurity_decrease=0.0, min_impurity_split=None,\n",
       "            min_samples_leaf=1, min_samples_split=2,\n",
       "            min_weight_fraction_leaf=0.0, n_estimators=1200, n_jobs=40,\n",
       "            oob_score=False, random_state=None, verbose=0,\n",
       "            warm_start=False)"
      ]
     },
     "execution_count": 110,
     "metadata": {},
     "output_type": "execute_result"
    }
   ],
   "source": [
    "rnd_clf_sPTD = RandomForestClassifier(n_estimators = 1200, max_leaf_nodes=30, n_jobs=40, criterion='entropy') \n",
    "rnd_clf_sPTD.fit(X_sPTD_train[:, re_selected_cols], y_sPTD_train)"
   ]
  },
  {
   "cell_type": "code",
   "execution_count": 111,
   "metadata": {},
   "outputs": [
    {
     "name": "stdout",
     "output_type": "stream",
     "text": [
      "0.9275510204081634\n",
      "0.6668718317224173\n"
     ]
    }
   ],
   "source": [
    "pred_prob = rnd_clf_sPTD.predict_proba(X_sPTD_test[:, re_selected_cols])[:, 1]\n",
    "print(roc_auc_score(y_sPTD_test, pred_prob))\n",
    "print(average_precision_score(y_sPTD_test, pred_prob))"
   ]
  },
  {
   "cell_type": "code",
   "execution_count": 114,
   "metadata": {},
   "outputs": [
    {
     "data": {
      "text/plain": [
       "RandomForestClassifier(bootstrap=True, class_weight=None, criterion='entropy',\n",
       "            max_depth=None, max_features='auto', max_leaf_nodes=30,\n",
       "            min_impurity_decrease=0.0, min_impurity_split=None,\n",
       "            min_samples_leaf=1, min_samples_split=2,\n",
       "            min_weight_fraction_leaf=0.0, n_estimators=1050, n_jobs=40,\n",
       "            oob_score=False, random_state=None, verbose=0,\n",
       "            warm_start=False)"
      ]
     },
     "execution_count": 114,
     "metadata": {},
     "output_type": "execute_result"
    }
   ],
   "source": [
    "rnd_clf_PPROM = RandomForestClassifier(n_estimators = 1050, max_leaf_nodes=30, n_jobs=40, criterion='entropy') \n",
    "rnd_clf_PPROM.fit(X_PPROM_train[:, re_selected_cols], y_PPROM_train)"
   ]
  },
  {
   "cell_type": "code",
   "execution_count": 115,
   "metadata": {},
   "outputs": [
    {
     "name": "stdout",
     "output_type": "stream",
     "text": [
      "0.9560966939210807\n",
      "0.8896125833084438\n"
     ]
    }
   ],
   "source": [
    "pred_prob = rnd_clf_PPROM.predict_proba(X_PPROM_test[:, re_selected_cols])[:, 1]\n",
    "print(roc_auc_score(y_PPROM_test, pred_prob))\n",
    "print(average_precision_score(y_PPROM_test, pred_prob))"
   ]
  },
  {
   "cell_type": "markdown",
   "metadata": {},
   "source": [
    "#### Using features selected with another methods"
   ]
  },
  {
   "cell_type": "code",
   "execution_count": 56,
   "metadata": {},
   "outputs": [
    {
     "data": {
      "text/html": [
       "<div>\n",
       "<style scoped>\n",
       "    .dataframe tbody tr th:only-of-type {\n",
       "        vertical-align: middle;\n",
       "    }\n",
       "\n",
       "    .dataframe tbody tr th {\n",
       "        vertical-align: top;\n",
       "    }\n",
       "\n",
       "    .dataframe thead th {\n",
       "        text-align: right;\n",
       "    }\n",
       "</style>\n",
       "<table border=\"1\" class=\"dataframe\">\n",
       "  <thead>\n",
       "    <tr style=\"text-align: right;\">\n",
       "      <th></th>\n",
       "      <th>std</th>\n",
       "      <th>chi2_both</th>\n",
       "      <th>ANOVA_F-value_both</th>\n",
       "      <th>mutual_info_both</th>\n",
       "      <th>*mrmr_both_MID(k=0.5)</th>\n",
       "      <th>*mrmr_both_MIQ(k=0.5)</th>\n",
       "      <th>*mrmr_both_MID(k=1.0)</th>\n",
       "      <th>*mrmr_both_MIQ(k=1.0)</th>\n",
       "      <th>*recursive_elimination_rf_100</th>\n",
       "      <th>differentially_expressed_genes</th>\n",
       "    </tr>\n",
       "  </thead>\n",
       "  <tbody>\n",
       "    <tr>\n",
       "      <th>0</th>\n",
       "      <td>105377885_at</td>\n",
       "      <td>100049587_at</td>\n",
       "      <td>10011_at</td>\n",
       "      <td>100124412_at</td>\n",
       "      <td>777_at</td>\n",
       "      <td>777_at</td>\n",
       "      <td>5290_at</td>\n",
       "      <td>5290_at</td>\n",
       "      <td>100287029_at</td>\n",
       "      <td>649446_at</td>\n",
       "    </tr>\n",
       "    <tr>\n",
       "      <th>1</th>\n",
       "      <td>3127_at</td>\n",
       "      <td>100128590_at</td>\n",
       "      <td>100128590_at</td>\n",
       "      <td>100126308_at</td>\n",
       "      <td>22986_at</td>\n",
       "      <td>105369512_at</td>\n",
       "      <td>777_at</td>\n",
       "      <td>125208_at</td>\n",
       "      <td>100288778_at</td>\n",
       "      <td>29062_at</td>\n",
       "    </tr>\n",
       "    <tr>\n",
       "      <th>2</th>\n",
       "      <td>3050_at</td>\n",
       "      <td>100287029_at</td>\n",
       "      <td>100287569_at</td>\n",
       "      <td>100129827_at</td>\n",
       "      <td>84617_at</td>\n",
       "      <td>10656_at</td>\n",
       "      <td>3267_at</td>\n",
       "      <td>101927526_at</td>\n",
       "      <td>100289473_at</td>\n",
       "      <td>8732_at</td>\n",
       "    </tr>\n",
       "    <tr>\n",
       "      <th>3</th>\n",
       "      <td>105377884_at</td>\n",
       "      <td>100288486_at</td>\n",
       "      <td>100288486_at</td>\n",
       "      <td>100130872_at</td>\n",
       "      <td>387895_at</td>\n",
       "      <td>3842_at</td>\n",
       "      <td>149628_at</td>\n",
       "      <td>93978_at</td>\n",
       "      <td>100379345_at</td>\n",
       "      <td>100287569_at</td>\n",
       "    </tr>\n",
       "    <tr>\n",
       "      <th>4</th>\n",
       "      <td>28475_at</td>\n",
       "      <td>100302170_at</td>\n",
       "      <td>10096_at</td>\n",
       "      <td>100302135_at</td>\n",
       "      <td>3842_at</td>\n",
       "      <td>219956_at</td>\n",
       "      <td>339666_at</td>\n",
       "      <td>101929007_at</td>\n",
       "      <td>100507347_at</td>\n",
       "      <td>25953_at</td>\n",
       "    </tr>\n",
       "  </tbody>\n",
       "</table>\n",
       "</div>"
      ],
      "text/plain": [
       "            std     chi2_both ANOVA_F-value_both mutual_info_both  \\\n",
       "0  105377885_at  100049587_at           10011_at     100124412_at   \n",
       "1       3127_at  100128590_at       100128590_at     100126308_at   \n",
       "2       3050_at  100287029_at       100287569_at     100129827_at   \n",
       "3  105377884_at  100288486_at       100288486_at     100130872_at   \n",
       "4      28475_at  100302170_at           10096_at     100302135_at   \n",
       "\n",
       "  *mrmr_both_MID(k=0.5) *mrmr_both_MIQ(k=0.5) *mrmr_both_MID(k=1.0)  \\\n",
       "0                777_at                777_at               5290_at   \n",
       "1              22986_at          105369512_at                777_at   \n",
       "2              84617_at              10656_at               3267_at   \n",
       "3             387895_at               3842_at             149628_at   \n",
       "4               3842_at             219956_at             339666_at   \n",
       "\n",
       "  *mrmr_both_MIQ(k=1.0) *recursive_elimination_rf_100  \\\n",
       "0               5290_at                  100287029_at   \n",
       "1             125208_at                  100288778_at   \n",
       "2          101927526_at                  100289473_at   \n",
       "3              93978_at                  100379345_at   \n",
       "4          101929007_at                  100507347_at   \n",
       "\n",
       "  differentially_expressed_genes  \n",
       "0                      649446_at  \n",
       "1                       29062_at  \n",
       "2                        8732_at  \n",
       "3                   100287569_at  \n",
       "4                       25953_at  "
      ]
     },
     "execution_count": 56,
     "metadata": {},
     "output_type": "execute_result"
    }
   ],
   "source": [
    "selected_genes = pd.read_csv('./data/gene_selection_for_plot.csv', skiprows=1)\n",
    "selected_genes.head()"
   ]
  },
  {
   "cell_type": "raw",
   "metadata": {},
   "source": [
    "for col in selected_genes.columns:\n",
    "    re_selected_cols = gene_expression_label_sPTD.columns[:-1].isin(selected_genes[col].tolist()[:100]).copy()\n",
    "    np.savetxt('./data/gene_selection_data/XsPTD_'+col+'.csv' ,X_sPTD[:, re_selected_cols], delimiter=',')\n",
    "np.savetxt('./data/gene_selection_data/ysPTD.csv' ,y_sPTD, delimiter=',')"
   ]
  },
  {
   "cell_type": "raw",
   "metadata": {},
   "source": [
    "for col in selected_genes.columns:\n",
    "    re_selected_cols = gene_expression_label_PPROM.columns[:-1].isin(selected_genes[col].tolist()[:100]).copy()\n",
    "    np.savetxt('./data/gene_selection_data/XPPROM_'+col+'.csv' ,X_PPROM[:, re_selected_cols], delimiter=',')\n",
    "np.savetxt('./data/gene_selection_data/yPPROM.csv' ,y_PPROM, delimiter=',')"
   ]
  },
  {
   "cell_type": "raw",
   "metadata": {},
   "source": [
    "for col in selected_genes.columns:\n",
    "    rnd_clf_sPTD = RandomForestClassifier(n_estimators = 1200, max_leaf_nodes=30, n_jobs=40, criterion='entropy')\n",
    "    re_selected_cols = gene_expression_label_sPTD.columns[:-1].isin(selected_genes[col].tolist()[:100]).copy()\n",
    "    rnd_clf_sPTD.fit(X_sPTD_train[:, re_selected_cols], y_sPTD_train)\n",
    "    pred_prob = rnd_clf_sPTD.predict_proba(X_sPTD_test[:, re_selected_cols])[:, 1]\n",
    "    print(col)\n",
    "    print(roc_auc_score(y_sPTD_test, pred_prob))\n",
    "    print(average_precision_score(y_sPTD_test, pred_prob))\n",
    "    print('__________________')"
   ]
  },
  {
   "cell_type": "raw",
   "metadata": {},
   "source": [
    "for col in selected_genes.columns:\n",
    "    rnd_clf_PPROM = RandomForestClassifier(n_estimators = 1200, max_leaf_nodes=30, n_jobs=40, criterion='entropy')\n",
    "    re_selected_cols = gene_expression_label_PPROM.columns[:-1].isin(selected_genes[col].tolist()[:100]).copy()\n",
    "    rnd_clf_PPROM.fit(X_PPROM_train[:, re_selected_cols], y_PPROM_train)\n",
    "    pred_prob = rnd_clf_PPROM.predict_proba(X_PPROM_test[:, re_selected_cols])[:, 1]\n",
    "    print(col)\n",
    "    print(roc_auc_score(y_PPROM_test, pred_prob))\n",
    "    print(average_precision_score(y_PPROM_test, pred_prob))\n",
    "    print('__________________')"
   ]
  },
  {
   "cell_type": "markdown",
   "metadata": {
    "toc-hr-collapsed": true
   },
   "source": [
    "## Algorithms and selected genes comparison"
   ]
  },
  {
   "cell_type": "markdown",
   "metadata": {},
   "source": [
    "##### sPTD"
   ]
  },
  {
   "cell_type": "code",
   "execution_count": 124,
   "metadata": {},
   "outputs": [],
   "source": [
    "auroc_boxplot_df = pd.DataFrame(columns=['AU', 'classifier', 'dataset'])\n",
    "\n",
    "model = RandomForestClassifier(n_estimators = 1200, max_leaf_nodes=30, criterion='entropy')\n",
    "seed = 934\n",
    "results = []\n",
    "names = []\n",
    "scoring = 'roc_auc'\n",
    "for col in selected_genes.columns:\n",
    "    re_selected_cols = gene_expression_label_sPTD.columns[:-1].isin(selected_genes[col].tolist()[:100]).copy()\n",
    "    kfold = KFold(n_splits=10, random_state=seed)\n",
    "    X_s, y_s = shuffle(X_sPTD[:, re_selected_cols], y_sPTD, random_state=seed)\n",
    "    cv_results = cross_val_score(model, X_s, y_s, cv=kfold, scoring=scoring, n_jobs=50)\n",
    "    results.append(cv_results)\n",
    "    names.append(col)\n",
    "for ind in range(len(results)):\n",
    "    df = pd.DataFrame(results[ind], columns=['AU'])\n",
    "    df['dataset'] = names[ind]\n",
    "    df['classifier'] = 'Random Forest'\n",
    "    auroc_boxplot_df = pd.concat([auroc_boxplot_df, df], sort=False)\n",
    "\n",
    "model = SVC(kernel='rbf', gamma=0.01, probability=True, random_state=seed)\n",
    "seed = 934\n",
    "results = []\n",
    "names = []\n",
    "scoring = 'roc_auc'\n",
    "for col in selected_genes.columns:\n",
    "    re_selected_cols = gene_expression_label_sPTD.columns[:-1].isin(selected_genes[col].tolist()[:100]).copy()\n",
    "    kfold = KFold(n_splits=10, random_state=seed)\n",
    "    X_s, y_s = shuffle(X_sPTD[:, re_selected_cols], y_sPTD, random_state=seed)\n",
    "    cv_results = cross_val_score(model, X_s, y_s, cv=kfold, scoring=scoring, n_jobs=50)\n",
    "    results.append(cv_results)\n",
    "    names.append(col)\n",
    "for ind in range(len(results)):\n",
    "    df = pd.DataFrame(results[ind], columns=['AU'])\n",
    "    df['dataset'] = names[ind]\n",
    "    df['classifier'] = 'SVM'\n",
    "    auroc_boxplot_df = pd.concat([auroc_boxplot_df, df], sort=False)\n",
    "\n",
    "model = LogisticRegression()\n",
    "seed = 934\n",
    "results = []\n",
    "names = []\n",
    "scoring = 'roc_auc'\n",
    "for col in selected_genes.columns:\n",
    "    re_selected_cols = gene_expression_label_sPTD.columns[:-1].isin(selected_genes[col].tolist()[:100]).copy()\n",
    "    kfold = KFold(n_splits=10, random_state=seed)\n",
    "    X_s, y_s = shuffle(X_sPTD[:, re_selected_cols], y_sPTD, random_state=seed)\n",
    "    cv_results = cross_val_score(model, X_s, y_s, cv=kfold, scoring=scoring, n_jobs=50)\n",
    "    results.append(cv_results)\n",
    "    names.append(col)\n",
    "for ind in range(len(results)):\n",
    "    df = pd.DataFrame(results[ind], columns=['AU'])\n",
    "    df['dataset'] = names[ind]\n",
    "    df['classifier'] = 'Logistic Regression'\n",
    "    auroc_boxplot_df = pd.concat([auroc_boxplot_df, df], sort=False)\n",
    "\n",
    "auroc_boxplot_df['AU_type'] = 'AUROC'\n",
    "auroc_boxplot_df = auroc_boxplot_df.rename(columns={\n",
    "    'AU':'AUROC', 'dataset':'feature_selection_method', 'AU_type':'AUC_type'})"
   ]
  },
  {
   "cell_type": "code",
   "execution_count": 125,
   "metadata": {},
   "outputs": [],
   "source": [
    "model = RandomForestClassifier(n_estimators = 1200, max_leaf_nodes=30, criterion='entropy')\n",
    "seed = 934\n",
    "results = []\n",
    "names = []\n",
    "scoring = 'roc_auc'\n",
    "kfold = KFold(n_splits=10, random_state=seed)\n",
    "X_s, y_s = shuffle(X_sPTD, y_sPTD, random_state=seed)\n",
    "cv_results = cross_val_score(model, X_s, y_s, cv=kfold, scoring=scoring, n_jobs=50)\n",
    "df = pd.DataFrame(cv_results, columns=['AUROC'])\n",
    "df['feature_selection_method'] = 'all_features'\n",
    "df['classifier'] = 'Random Forest'\n",
    "df['AUC_type'] = 'AUROC'\n",
    "auroc_boxplot_df = pd.concat([df, auroc_boxplot_df], sort=False)\n",
    "\n",
    "model = SVC(kernel='rbf', gamma=0.01, probability=True, random_state=seed)\n",
    "seed = 934\n",
    "results = []\n",
    "names = []\n",
    "scoring = 'roc_auc'\n",
    "kfold = KFold(n_splits=10, random_state=seed)\n",
    "X_s, y_s = shuffle(X_sPTD, y_sPTD, random_state=seed)\n",
    "cv_results = cross_val_score(model, X_s, y_s, cv=kfold, scoring=scoring, n_jobs=50)\n",
    "df = pd.DataFrame(cv_results, columns=['AUROC'])\n",
    "df['feature_selection_method'] = 'all_features'\n",
    "df['classifier'] = 'SVM'\n",
    "df['AUC_type'] = 'AUROC'\n",
    "auroc_boxplot_df = pd.concat([df, auroc_boxplot_df], sort=False)\n",
    "\n",
    "model = LogisticRegression()\n",
    "seed = 934\n",
    "results = []\n",
    "names = []\n",
    "scoring = 'roc_auc'\n",
    "kfold = KFold(n_splits=10, random_state=seed)\n",
    "X_s, y_s = shuffle(X_sPTD, y_sPTD, random_state=seed)\n",
    "cv_results = cross_val_score(model, X_s, y_s, cv=kfold, scoring=scoring, n_jobs=50)\n",
    "df = pd.DataFrame(cv_results, columns=['AUROC'])\n",
    "df['feature_selection_method'] = 'all_features'\n",
    "df['classifier'] = 'Logistic Regression'\n",
    "df['AUC_type'] = 'AUROC'\n",
    "auroc_boxplot_df = pd.concat([df, auroc_boxplot_df], sort=False)"
   ]
  },
  {
   "cell_type": "code",
   "execution_count": 126,
   "metadata": {},
   "outputs": [
    {
     "data": {
      "text/plain": [
       "Text(0.5, 1.0, 'sPTD Classifiers')"
      ]
     },
     "execution_count": 126,
     "metadata": {},
     "output_type": "execute_result"
    },
    {
     "data": {
      "image/png": "[encoded data removed]",
      "text/plain": [
       "<Figure size 1440x432 with 1 Axes>"
      ]
     },
     "metadata": {},
     "output_type": "display_data"
    }
   ],
   "source": [
    "plt.figure(figsize=(20, 6))\n",
    "sns.boxplot(x='feature_selection_method', y='AUROC', hue='classifier', data=auroc_boxplot_df)\n",
    "plt.xticks(rotation=30, fontsize=12)\n",
    "plt.ylabel('AUROC', fontsize=12)\n",
    "plt.legend(loc=4)\n",
    "plt.title('sPTD Classifiers')"
   ]
  },
  {
   "cell_type": "code",
   "execution_count": 127,
   "metadata": {},
   "outputs": [],
   "source": [
    "aupr_boxplot_df = pd.DataFrame(columns=['AU', 'classifier', 'dataset'])\n",
    "\n",
    "model = RandomForestClassifier(n_estimators = 1200, max_leaf_nodes=30, criterion='entropy')\n",
    "seed = 934\n",
    "results = []\n",
    "names = []\n",
    "scoring = 'average_precision'\n",
    "for col in selected_genes.columns:\n",
    "    re_selected_cols = gene_expression_label_sPTD.columns[:-1].isin(selected_genes[col].tolist()[:100]).copy()\n",
    "    kfold = KFold(n_splits=10, random_state=seed)\n",
    "    X_s, y_s = shuffle(X_sPTD[:, re_selected_cols], y_sPTD, random_state=seed)\n",
    "    cv_results = cross_val_score(model, X_s, y_s, cv=kfold, scoring=scoring, n_jobs=50)\n",
    "    results.append(cv_results)\n",
    "    names.append(col)\n",
    "for ind in range(len(results)):\n",
    "    df = pd.DataFrame(results[ind], columns=['AU'])\n",
    "    df['dataset'] = names[ind]\n",
    "    df['classifier'] = 'Random Forest'\n",
    "    aupr_boxplot_df = pd.concat([aupr_boxplot_df, df], sort=False)\n",
    "\n",
    "model = SVC(kernel='rbf', gamma=0.01, probability=True, random_state=seed)\n",
    "seed = 934\n",
    "results = []\n",
    "names = []\n",
    "scoring = 'average_precision'\n",
    "for col in selected_genes.columns:\n",
    "    re_selected_cols = gene_expression_label_sPTD.columns[:-1].isin(selected_genes[col].tolist()[:100]).copy()\n",
    "    kfold = KFold(n_splits=10, random_state=seed)\n",
    "    X_s, y_s = shuffle(X_sPTD[:, re_selected_cols], y_sPTD, random_state=seed)\n",
    "    cv_results = cross_val_score(model, X_s, y_s, cv=kfold, scoring=scoring, n_jobs=50)\n",
    "    results.append(cv_results)\n",
    "    names.append(col)\n",
    "for ind in range(len(results)):\n",
    "    df = pd.DataFrame(results[ind], columns=['AU'])\n",
    "    df['dataset'] = names[ind]\n",
    "    df['classifier'] = 'SVM'\n",
    "    aupr_boxplot_df = pd.concat([aupr_boxplot_df, df], sort=False)\n",
    "\n",
    "model = LogisticRegression()\n",
    "seed = 934\n",
    "results = []\n",
    "names = []\n",
    "scoring = 'average_precision'\n",
    "for col in selected_genes.columns:\n",
    "    re_selected_cols = gene_expression_label_sPTD.columns[:-1].isin(selected_genes[col].tolist()[:100]).copy()\n",
    "    kfold = KFold(n_splits=10, random_state=seed)\n",
    "    X_s, y_s = shuffle(X_sPTD[:, re_selected_cols], y_sPTD, random_state=seed)\n",
    "    cv_results = cross_val_score(model, X_s, y_s, cv=kfold, scoring=scoring, n_jobs=50)\n",
    "    results.append(cv_results)\n",
    "    names.append(col)\n",
    "for ind in range(len(results)):\n",
    "    df = pd.DataFrame(results[ind], columns=['AU'])\n",
    "    df['dataset'] = names[ind]\n",
    "    df['classifier'] = 'Logistic Regression'\n",
    "    aupr_boxplot_df = pd.concat([aupr_boxplot_df, df], sort=False)\n",
    "\n",
    "aupr_boxplot_df['AU_type'] = 'AUPR'\n",
    "aupr_boxplot_df = aupr_boxplot_df.rename(columns={'AU':'AUPR', 'dataset':'feature_selection_method', 'AU_type':'AUC_type'})"
   ]
  },
  {
   "cell_type": "code",
   "execution_count": 128,
   "metadata": {},
   "outputs": [],
   "source": [
    "model = RandomForestClassifier(n_estimators = 1200, max_leaf_nodes=30, criterion='entropy')\n",
    "seed = 934\n",
    "results = []\n",
    "names = []\n",
    "scoring = 'average_precision'\n",
    "kfold = KFold(n_splits=10, random_state=seed)\n",
    "X_s, y_s = shuffle(X_sPTD, y_sPTD, random_state=seed)\n",
    "cv_results = cross_val_score(model, X_s, y_s, cv=kfold, scoring=scoring, n_jobs=50)\n",
    "df = pd.DataFrame(cv_results, columns=['AUPR'])\n",
    "df['feature_selection_method'] = 'all_features'\n",
    "df['classifier'] = 'Random Forest'\n",
    "df['AUC_type'] = 'AUPR'\n",
    "aupr_boxplot_df = pd.concat([df, aupr_boxplot_df], sort=False)\n",
    "\n",
    "model = SVC(kernel='rbf', gamma=0.01, probability=True, random_state=seed)\n",
    "seed = 934\n",
    "results = []\n",
    "names = []\n",
    "scoring = 'average_precision'\n",
    "kfold = KFold(n_splits=10, random_state=seed)\n",
    "X_s, y_s = shuffle(X_sPTD, y_sPTD, random_state=seed)\n",
    "cv_results = cross_val_score(model, X_s, y_s, cv=kfold, scoring=scoring, n_jobs=50)\n",
    "df = pd.DataFrame(cv_results, columns=['AUPR'])\n",
    "df['feature_selection_method'] = 'all_features'\n",
    "df['classifier'] = 'SVM'\n",
    "df['AUC_type'] = 'AUPR'\n",
    "aupr_boxplot_df = pd.concat([df, aupr_boxplot_df], sort=False)\n",
    "\n",
    "model = LogisticRegression()\n",
    "seed = 934\n",
    "results = []\n",
    "names = []\n",
    "scoring = 'average_precision'\n",
    "kfold = KFold(n_splits=10, random_state=seed)\n",
    "X_s, y_s = shuffle(X_sPTD, y_sPTD, random_state=seed)\n",
    "cv_results = cross_val_score(model, X_s, y_s, cv=kfold, scoring=scoring, n_jobs=50)\n",
    "df = pd.DataFrame(cv_results, columns=['AUPR'])\n",
    "df['feature_selection_method'] = 'all_features'\n",
    "df['classifier'] = 'Logistic Regression'\n",
    "df['AUC_type'] = 'AUPR'\n",
    "aupr_boxplot_df = pd.concat([df, aupr_boxplot_df], sort=False)"
   ]
  },
  {
   "cell_type": "code",
   "execution_count": 129,
   "metadata": {},
   "outputs": [
    {
     "data": {
      "text/plain": [
       "Text(0.5, 1.0, 'sPTD Classifiers')"
      ]
     },
     "execution_count": 129,
     "metadata": {},
     "output_type": "execute_result"
    },
    {
     "data": {
      "image/png": "[encoded data removed]",
      "text/plain": [
       "<Figure size 1440x432 with 1 Axes>"
      ]
     },
     "metadata": {},
     "output_type": "display_data"
    }
   ],
   "source": [
    "plt.figure(figsize=(20, 6))\n",
    "sns.boxplot(x='feature_selection_method', y='AUPR', hue='classifier', data=aupr_boxplot_df)\n",
    "plt.xticks(rotation=30, fontsize=12)\n",
    "plt.ylabel('AUPR', fontsize=12)\n",
    "plt.legend(loc=4)\n",
    "plt.title('sPTD Classifiers')"
   ]
  },
  {
   "cell_type": "code",
   "execution_count": 131,
   "metadata": {},
   "outputs": [
    {
     "data": {
      "text/html": [
       "<div>\n",
       "<style scoped>\n",
       "    .dataframe tbody tr th:only-of-type {\n",
       "        vertical-align: middle;\n",
       "    }\n",
       "\n",
       "    .dataframe tbody tr th {\n",
       "        vertical-align: top;\n",
       "    }\n",
       "\n",
       "    .dataframe thead th {\n",
       "        text-align: right;\n",
       "    }\n",
       "</style>\n",
       "<table border=\"1\" class=\"dataframe\">\n",
       "  <thead>\n",
       "    <tr style=\"text-align: right;\">\n",
       "      <th></th>\n",
       "      <th>AUC</th>\n",
       "      <th>feature_selection_method</th>\n",
       "      <th>classifier</th>\n",
       "      <th>AUC_type</th>\n",
       "    </tr>\n",
       "  </thead>\n",
       "  <tbody>\n",
       "    <tr>\n",
       "      <th>0</th>\n",
       "      <td>0.910714</td>\n",
       "      <td>all_features</td>\n",
       "      <td>Logistic Regression</td>\n",
       "      <td>AUROC</td>\n",
       "    </tr>\n",
       "    <tr>\n",
       "      <th>1</th>\n",
       "      <td>0.975000</td>\n",
       "      <td>all_features</td>\n",
       "      <td>Logistic Regression</td>\n",
       "      <td>AUROC</td>\n",
       "    </tr>\n",
       "    <tr>\n",
       "      <th>2</th>\n",
       "      <td>0.578125</td>\n",
       "      <td>all_features</td>\n",
       "      <td>Logistic Regression</td>\n",
       "      <td>AUROC</td>\n",
       "    </tr>\n",
       "    <tr>\n",
       "      <th>3</th>\n",
       "      <td>0.846154</td>\n",
       "      <td>all_features</td>\n",
       "      <td>Logistic Regression</td>\n",
       "      <td>AUROC</td>\n",
       "    </tr>\n",
       "    <tr>\n",
       "      <th>4</th>\n",
       "      <td>0.979310</td>\n",
       "      <td>all_features</td>\n",
       "      <td>Logistic Regression</td>\n",
       "      <td>AUROC</td>\n",
       "    </tr>\n",
       "  </tbody>\n",
       "</table>\n",
       "</div>"
      ],
      "text/plain": [
       "        AUC feature_selection_method           classifier AUC_type\n",
       "0  0.910714             all_features  Logistic Regression    AUROC\n",
       "1  0.975000             all_features  Logistic Regression    AUROC\n",
       "2  0.578125             all_features  Logistic Regression    AUROC\n",
       "3  0.846154             all_features  Logistic Regression    AUROC\n",
       "4  0.979310             all_features  Logistic Regression    AUROC"
      ]
     },
     "execution_count": 131,
     "metadata": {},
     "output_type": "execute_result"
    }
   ],
   "source": [
    "auroc_boxplot_df.rename(columns={'AUROC':'AUC'}, inplace=True)\n",
    "aupr_boxplot_df.rename(columns={'AUPR':'AUC'}, inplace=True)\n",
    "au_boxplot_df = pd.concat([auroc_boxplot_df, aupr_boxplot_df])\n",
    "au_boxplot_df.head()"
   ]
  },
  {
   "cell_type": "code",
   "execution_count": 132,
   "metadata": {},
   "outputs": [],
   "source": [
    "au_boxplot_df.to_csv('./sPTD_classifiers_performance.csv', sep=',', index=None)"
   ]
  },
  {
   "cell_type": "markdown",
   "metadata": {},
   "source": [
    "##### PPROM"
   ]
  },
  {
   "cell_type": "code",
   "execution_count": 116,
   "metadata": {},
   "outputs": [],
   "source": [
    "auroc_boxplot_df = pd.DataFrame(columns=['AU', 'classifier', 'dataset'])\n",
    "\n",
    "model = RandomForestClassifier(n_estimators = 1050, max_leaf_nodes=30, criterion='entropy')\n",
    "seed = 934\n",
    "results = []\n",
    "names = []\n",
    "scoring = 'roc_auc'\n",
    "for col in selected_genes.columns:\n",
    "    re_selected_cols = gene_expression_label_PPROM.columns[:-1].isin(selected_genes[col].tolist()[:100]).copy()\n",
    "    kfold = KFold(n_splits=10, random_state=seed)\n",
    "    X_s, y_s = shuffle(X_PPROM[:, re_selected_cols], y_PPROM, random_state=seed)\n",
    "    cv_results = cross_val_score(model, X_s, y_s, cv=kfold, scoring=scoring, n_jobs=50)\n",
    "    results.append(cv_results)\n",
    "    names.append(col)\n",
    "for ind in range(len(results)):\n",
    "    df = pd.DataFrame(results[ind], columns=['AU'])\n",
    "    df['dataset'] = names[ind]\n",
    "    df['classifier'] = 'Random Forest'\n",
    "    auroc_boxplot_df = pd.concat([auroc_boxplot_df, df], sort=False)\n",
    "\n",
    "model = SVC(kernel='rbf', gamma=0.01, probability=True, random_state=seed)\n",
    "seed = 934\n",
    "results = []\n",
    "names = []\n",
    "scoring = 'roc_auc'\n",
    "for col in selected_genes.columns:\n",
    "    re_selected_cols = gene_expression_label_PPROM.columns[:-1].isin(selected_genes[col].tolist()[:100]).copy()\n",
    "    kfold = KFold(n_splits=10, random_state=seed)\n",
    "    X_s, y_s = shuffle(X_PPROM[:, re_selected_cols], y_PPROM, random_state=seed)\n",
    "    cv_results = cross_val_score(model, X_s, y_s, cv=kfold, scoring=scoring, n_jobs=50)\n",
    "    results.append(cv_results)\n",
    "    names.append(col)\n",
    "for ind in range(len(results)):\n",
    "    df = pd.DataFrame(results[ind], columns=['AU'])\n",
    "    df['dataset'] = names[ind]\n",
    "    df['classifier'] = 'SVM'\n",
    "    auroc_boxplot_df = pd.concat([auroc_boxplot_df, df], sort=False)\n",
    "\n",
    "model = LogisticRegression()\n",
    "seed = 934\n",
    "results = []\n",
    "names = []\n",
    "scoring = 'roc_auc'\n",
    "for col in selected_genes.columns:\n",
    "    re_selected_cols = gene_expression_label_PPROM.columns[:-1].isin(selected_genes[col].tolist()[:100]).copy()\n",
    "    kfold = KFold(n_splits=10, random_state=seed)\n",
    "    X_s, y_s = shuffle(X_PPROM[:, re_selected_cols], y_PPROM, random_state=seed)\n",
    "    cv_results = cross_val_score(model, X_s, y_s, cv=kfold, scoring=scoring, n_jobs=50)\n",
    "    results.append(cv_results)\n",
    "    names.append(col)\n",
    "for ind in range(len(results)):\n",
    "    df = pd.DataFrame(results[ind], columns=['AU'])\n",
    "    df['dataset'] = names[ind]\n",
    "    df['classifier'] = 'Logistic Regression'\n",
    "    auroc_boxplot_df = pd.concat([auroc_boxplot_df, df], sort=False)\n",
    "\n",
    "auroc_boxplot_df['AU_type'] = 'AUROC'\n",
    "auroc_boxplot_df = auroc_boxplot_df.rename(columns={\n",
    "    'AU':'AUROC', 'dataset':'feature_selection_method', 'AU_type':'AUC_type'})"
   ]
  },
  {
   "cell_type": "code",
   "execution_count": 117,
   "metadata": {},
   "outputs": [],
   "source": [
    "model = RandomForestClassifier(n_estimators = 1050, max_leaf_nodes=30, criterion='entropy')\n",
    "seed = 934\n",
    "results = []\n",
    "names = []\n",
    "scoring = 'roc_auc'\n",
    "kfold = KFold(n_splits=10, random_state=seed)\n",
    "X_s, y_s = shuffle(X_PPROM, y_PPROM, random_state=seed)\n",
    "cv_results = cross_val_score(model, X_s, y_s, cv=kfold, scoring=scoring, n_jobs=50)\n",
    "df = pd.DataFrame(cv_results, columns=['AUROC'])\n",
    "df['feature_selection_method'] = 'all_features'\n",
    "df['classifier'] = 'Random Forest'\n",
    "df['AUC_type'] = 'AUROC'\n",
    "auroc_boxplot_df = pd.concat([df, auroc_boxplot_df], sort=False)\n",
    "\n",
    "model = SVC(kernel='rbf', gamma=0.01, probability=True, random_state=seed)\n",
    "seed = 934\n",
    "results = []\n",
    "names = []\n",
    "scoring = 'roc_auc'\n",
    "kfold = KFold(n_splits=10, random_state=seed)\n",
    "X_s, y_s = shuffle(X_PPROM, y_PPROM, random_state=seed)\n",
    "cv_results = cross_val_score(model, X_s, y_s, cv=kfold, scoring=scoring, n_jobs=50)\n",
    "df = pd.DataFrame(cv_results, columns=['AUROC'])\n",
    "df['feature_selection_method'] = 'all_features'\n",
    "df['classifier'] = 'SVM'\n",
    "df['AUC_type'] = 'AUROC'\n",
    "auroc_boxplot_df = pd.concat([df, auroc_boxplot_df], sort=False)\n",
    "\n",
    "model = LogisticRegression()\n",
    "seed = 934\n",
    "results = []\n",
    "names = []\n",
    "scoring = 'roc_auc'\n",
    "kfold = KFold(n_splits=10, random_state=seed)\n",
    "X_s, y_s = shuffle(X_PPROM, y_PPROM, random_state=seed)\n",
    "cv_results = cross_val_score(model, X_s, y_s, cv=kfold, scoring=scoring, n_jobs=50)\n",
    "df = pd.DataFrame(cv_results, columns=['AUROC'])\n",
    "df['feature_selection_method'] = 'all_features'\n",
    "df['classifier'] = 'Logistic Regression'\n",
    "df['AUC_type'] = 'AUROC'\n",
    "auroc_boxplot_df = pd.concat([df, auroc_boxplot_df], sort=False)"
   ]
  },
  {
   "cell_type": "code",
   "execution_count": 118,
   "metadata": {},
   "outputs": [
    {
     "data": {
      "text/plain": [
       "Text(0.5, 1.0, 'PPROM Classifiers')"
      ]
     },
     "execution_count": 118,
     "metadata": {},
     "output_type": "execute_result"
    },
    {
     "data": {
      "image/png": "[encoded data removed]",
      "text/plain": [
       "<Figure size 1440x432 with 1 Axes>"
      ]
     },
     "metadata": {},
     "output_type": "display_data"
    }
   ],
   "source": [
    "plt.figure(figsize=(20, 6))\n",
    "sns.boxplot(x='feature_selection_method', y='AUROC', hue='classifier', data=auroc_boxplot_df)\n",
    "plt.xticks(rotation=30, fontsize=12)\n",
    "plt.ylabel('AUROC', fontsize=12)\n",
    "plt.legend(loc=4)\n",
    "plt.title('PPROM Classifiers')"
   ]
  },
  {
   "cell_type": "code",
   "execution_count": 119,
   "metadata": {},
   "outputs": [],
   "source": [
    "aupr_boxplot_df = pd.DataFrame(columns=['AU', 'classifier', 'dataset'])\n",
    "\n",
    "model = RandomForestClassifier(n_estimators = 1050, max_leaf_nodes=30, criterion='entropy')\n",
    "seed = 934\n",
    "results = []\n",
    "names = []\n",
    "scoring = 'average_precision'\n",
    "for col in selected_genes.columns:\n",
    "    re_selected_cols = gene_expression_label_PPROM.columns[:-1].isin(selected_genes[col].tolist()[:100]).copy()\n",
    "    kfold = KFold(n_splits=10, random_state=seed)\n",
    "    X_s, y_s = shuffle(X_PPROM[:, re_selected_cols], y_PPROM, random_state=seed)\n",
    "    cv_results = cross_val_score(model, X_s, y_s, cv=kfold, scoring=scoring, n_jobs=50)\n",
    "    results.append(cv_results)\n",
    "    names.append(col)\n",
    "for ind in range(len(results)):\n",
    "    df = pd.DataFrame(results[ind], columns=['AU'])\n",
    "    df['dataset'] = names[ind]\n",
    "    df['classifier'] = 'Random Forest'\n",
    "    aupr_boxplot_df = pd.concat([aupr_boxplot_df, df], sort=False)\n",
    "\n",
    "model = SVC(kernel='rbf', gamma=0.01, probability=True, random_state=seed)\n",
    "seed = 934\n",
    "results = []\n",
    "names = []\n",
    "scoring = 'average_precision'\n",
    "for col in selected_genes.columns:\n",
    "    re_selected_cols = gene_expression_label_PPROM.columns[:-1].isin(selected_genes[col].tolist()[:100]).copy()\n",
    "    kfold = KFold(n_splits=10, random_state=seed)\n",
    "    X_s, y_s = shuffle(X_PPROM[:, re_selected_cols], y_PPROM, random_state=seed)\n",
    "    cv_results = cross_val_score(model, X_s, y_s, cv=kfold, scoring=scoring, n_jobs=50)\n",
    "    results.append(cv_results)\n",
    "    names.append(col)\n",
    "for ind in range(len(results)):\n",
    "    df = pd.DataFrame(results[ind], columns=['AU'])\n",
    "    df['dataset'] = names[ind]\n",
    "    df['classifier'] = 'SVM'\n",
    "    aupr_boxplot_df = pd.concat([aupr_boxplot_df, df], sort=False)\n",
    "\n",
    "model = LogisticRegression()\n",
    "seed = 934\n",
    "results = []\n",
    "names = []\n",
    "scoring = 'average_precision'\n",
    "for col in selected_genes.columns:\n",
    "    re_selected_cols = gene_expression_label_PPROM.columns[:-1].isin(selected_genes[col].tolist()[:100]).copy()\n",
    "    kfold = KFold(n_splits=10, random_state=seed)\n",
    "    X_s, y_s = shuffle(X_PPROM[:, re_selected_cols], y_PPROM, random_state=seed)\n",
    "    cv_results = cross_val_score(model, X_s, y_s, cv=kfold, scoring=scoring, n_jobs=50)\n",
    "    results.append(cv_results)\n",
    "    names.append(col)\n",
    "for ind in range(len(results)):\n",
    "    df = pd.DataFrame(results[ind], columns=['AU'])\n",
    "    df['dataset'] = names[ind]\n",
    "    df['classifier'] = 'Logistic Regression'\n",
    "    aupr_boxplot_df = pd.concat([aupr_boxplot_df, df], sort=False)\n",
    "\n",
    "aupr_boxplot_df['AU_type'] = 'AUPR'\n",
    "aupr_boxplot_df = aupr_boxplot_df.rename(columns={\n",
    "    'AU':'AUPR', 'dataset':'feature_selection_method', 'AU_type':'AUC_type'})"
   ]
  },
  {
   "cell_type": "code",
   "execution_count": 120,
   "metadata": {},
   "outputs": [],
   "source": [
    "model = RandomForestClassifier(n_estimators = 1050, max_leaf_nodes=30, criterion='entropy')\n",
    "seed = 934\n",
    "results = []\n",
    "names = []\n",
    "scoring = 'average_precision'\n",
    "kfold = KFold(n_splits=10, random_state=seed)\n",
    "X_s, y_s = shuffle(X_PPROM, y_PPROM, random_state=seed)\n",
    "cv_results = cross_val_score(model, X_s, y_s, cv=kfold, scoring=scoring, n_jobs=50)\n",
    "df = pd.DataFrame(cv_results, columns=['AUPR'])\n",
    "df['feature_selection_method'] = 'all_features'\n",
    "df['classifier'] = 'Random Forest'\n",
    "df['AUC_type'] = 'AUPR'\n",
    "aupr_boxplot_df = pd.concat([df, aupr_boxplot_df], sort=False)\n",
    "\n",
    "model = SVC(kernel='rbf', gamma=0.01, probability=True, random_state=seed)\n",
    "seed = 934\n",
    "results = []\n",
    "names = []\n",
    "scoring = 'average_precision'\n",
    "kfold = KFold(n_splits=10, random_state=seed)\n",
    "X_s, y_s = shuffle(X_PPROM, y_PPROM, random_state=seed)\n",
    "cv_results = cross_val_score(model, X_s, y_s, cv=kfold, scoring=scoring, n_jobs=50)\n",
    "df = pd.DataFrame(cv_results, columns=['AUPR'])\n",
    "df['feature_selection_method'] = 'all_features'\n",
    "df['classifier'] = 'SVM'\n",
    "df['AUC_type'] = 'AUPR'\n",
    "aupr_boxplot_df = pd.concat([df, aupr_boxplot_df], sort=False)\n",
    "\n",
    "model = LogisticRegression()\n",
    "seed = 934\n",
    "results = []\n",
    "names = []\n",
    "scoring = 'average_precision'\n",
    "kfold = KFold(n_splits=10, random_state=seed)\n",
    "X_s, y_s = shuffle(X_PPROM, y_PPROM, random_state=seed)\n",
    "cv_results = cross_val_score(model, X_s, y_s, cv=kfold, scoring=scoring, n_jobs=50)\n",
    "df = pd.DataFrame(cv_results, columns=['AUPR'])\n",
    "df['feature_selection_method'] = 'all_features'\n",
    "df['classifier'] = 'Logistic Regression'\n",
    "df['AUC_type'] = 'AUPR'\n",
    "aupr_boxplot_df = pd.concat([df, aupr_boxplot_df], sort=False)"
   ]
  },
  {
   "cell_type": "code",
   "execution_count": 121,
   "metadata": {},
   "outputs": [
    {
     "data": {
      "text/plain": [
       "Text(0.5, 1.0, 'PPROM Classifiers')"
      ]
     },
     "execution_count": 121,
     "metadata": {},
     "output_type": "execute_result"
    },
    {
     "data": {
      "image/png": "[encoded data removed]",
      "text/plain": [
       "<Figure size 1440x432 with 1 Axes>"
      ]
     },
     "metadata": {},
     "output_type": "display_data"
    }
   ],
   "source": [
    "plt.figure(figsize=(20, 6))\n",
    "sns.boxplot(x='feature_selection_method', y='AUPR', hue='classifier', data=aupr_boxplot_df)\n",
    "plt.xticks(rotation=30, fontsize=12)\n",
    "plt.ylabel('AUPR', fontsize=12)\n",
    "plt.legend(loc=4)\n",
    "plt.title('PPROM Classifiers')"
   ]
  },
  {
   "cell_type": "code",
   "execution_count": 122,
   "metadata": {},
   "outputs": [
    {
     "data": {
      "text/html": [
       "<div>\n",
       "<style scoped>\n",
       "    .dataframe tbody tr th:only-of-type {\n",
       "        vertical-align: middle;\n",
       "    }\n",
       "\n",
       "    .dataframe tbody tr th {\n",
       "        vertical-align: top;\n",
       "    }\n",
       "\n",
       "    .dataframe thead th {\n",
       "        text-align: right;\n",
       "    }\n",
       "</style>\n",
       "<table border=\"1\" class=\"dataframe\">\n",
       "  <thead>\n",
       "    <tr style=\"text-align: right;\">\n",
       "      <th></th>\n",
       "      <th>AUC</th>\n",
       "      <th>feature_selection_method</th>\n",
       "      <th>classifier</th>\n",
       "      <th>AUC_type</th>\n",
       "    </tr>\n",
       "  </thead>\n",
       "  <tbody>\n",
       "    <tr>\n",
       "      <th>0</th>\n",
       "      <td>0.909091</td>\n",
       "      <td>all_features</td>\n",
       "      <td>Logistic Regression</td>\n",
       "      <td>AUROC</td>\n",
       "    </tr>\n",
       "    <tr>\n",
       "      <th>1</th>\n",
       "      <td>0.900383</td>\n",
       "      <td>all_features</td>\n",
       "      <td>Logistic Regression</td>\n",
       "      <td>AUROC</td>\n",
       "    </tr>\n",
       "    <tr>\n",
       "      <th>2</th>\n",
       "      <td>0.915709</td>\n",
       "      <td>all_features</td>\n",
       "      <td>Logistic Regression</td>\n",
       "      <td>AUROC</td>\n",
       "    </tr>\n",
       "    <tr>\n",
       "      <th>3</th>\n",
       "      <td>0.939394</td>\n",
       "      <td>all_features</td>\n",
       "      <td>Logistic Regression</td>\n",
       "      <td>AUROC</td>\n",
       "    </tr>\n",
       "    <tr>\n",
       "      <th>4</th>\n",
       "      <td>0.989899</td>\n",
       "      <td>all_features</td>\n",
       "      <td>Logistic Regression</td>\n",
       "      <td>AUROC</td>\n",
       "    </tr>\n",
       "  </tbody>\n",
       "</table>\n",
       "</div>"
      ],
      "text/plain": [
       "        AUC feature_selection_method           classifier AUC_type\n",
       "0  0.909091             all_features  Logistic Regression    AUROC\n",
       "1  0.900383             all_features  Logistic Regression    AUROC\n",
       "2  0.915709             all_features  Logistic Regression    AUROC\n",
       "3  0.939394             all_features  Logistic Regression    AUROC\n",
       "4  0.989899             all_features  Logistic Regression    AUROC"
      ]
     },
     "execution_count": 122,
     "metadata": {},
     "output_type": "execute_result"
    }
   ],
   "source": [
    "auroc_boxplot_df = auroc_boxplot_df.rename(columns={'AUROC':'AUC'})\n",
    "aupr_boxplot_df = aupr_boxplot_df.rename(columns={'AUPR':'AUC'})\n",
    "au_boxplot_df = pd.concat([auroc_boxplot_df, aupr_boxplot_df])\n",
    "au_boxplot_df.head()"
   ]
  },
  {
   "cell_type": "code",
   "execution_count": 123,
   "metadata": {},
   "outputs": [],
   "source": [
    "au_boxplot_df.to_csv('./PPROM_classifiers_performance.csv', sep=',', index=None)"
   ]
  },
  {
   "cell_type": "markdown",
   "metadata": {},
   "source": [
    "## Ensemble All 3 Algorithms!"
   ]
  },
  {
   "cell_type": "code",
   "execution_count": 41,
   "metadata": {},
   "outputs": [
    {
     "data": {
      "text/plain": [
       "array([False, False, False, ..., False, False, False])"
      ]
     },
     "execution_count": 41,
     "metadata": {},
     "output_type": "execute_result"
    }
   ],
   "source": [
    "gene_selection_bool = pd.read_csv('./gene_selection_bool.csv', header=None).values.reshape(-1, )\n",
    "gene_selection_bool"
   ]
  },
  {
   "cell_type": "code",
   "execution_count": 109,
   "metadata": {},
   "outputs": [],
   "source": [
    "au_boxplot_df = pd.DataFrame(columns=['AUC', 'classifier', 'feature_selection_method', 'AUC_type'])\n",
    "seed = 934"
   ]
  },
  {
   "cell_type": "code",
   "execution_count": 110,
   "metadata": {},
   "outputs": [],
   "source": [
    "sPTD_RF = RandomForestClassifier(n_estimators = 1200, max_leaf_nodes=30, criterion='entropy')\n",
    "sPTD_SVM = SVC(kernel='rbf', gamma=0.01, probability=True, random_state=seed)\n",
    "sPTD_LR = LogisticRegression()\n",
    "sPTD_clf = VotingClassifier(\n",
    "    estimators=[('sPTD_RF', sPTD_RF), ('sPTD_LR', sPTD_LR), ('sPTD_SVM', sPTD_SVM)], \n",
    "    voting='soft', weights=[2,2,1])"
   ]
  },
  {
   "cell_type": "code",
   "execution_count": 111,
   "metadata": {},
   "outputs": [],
   "source": [
    "scoring = 'roc_auc'\n",
    "kfold = KFold(n_splits=10, random_state=seed)\n",
    "X_s, y_s = shuffle(X_sPTD[:, gene_selection_bool], y_sPTD, random_state=seed)\n",
    "cv_results = cross_val_score(sPTD_clf, X_s, y_s, cv=kfold, scoring=scoring, n_jobs=50)\n",
    "df = pd.DataFrame(cv_results, columns=['AUC'])\n",
    "df['feature_selection_method'] = '*recursive_elimination_rf_100'\n",
    "df['classifier'] = 'sPTD_ensemble'\n",
    "df['AUC_type'] = 'AUROC'\n",
    "au_boxplot_df = pd.concat([au_boxplot_df, df])\n",
    "\n",
    "scoring = 'average_precision'\n",
    "kfold = KFold(n_splits=10, random_state=seed)\n",
    "X_s, y_s = shuffle(X_sPTD[:, gene_selection_bool], y_sPTD, random_state=seed)\n",
    "cv_results = cross_val_score(sPTD_clf, X_s, y_s, cv=kfold, scoring=scoring, n_jobs=50)\n",
    "df = pd.DataFrame(cv_results, columns=['AUC'])\n",
    "df['feature_selection_method'] = '*recursive_elimination_rf_100'\n",
    "df['classifier'] = 'sPTD_ensemble'\n",
    "df['AUC_type'] = 'AUPR'\n",
    "au_boxplot_df = pd.concat([au_boxplot_df, df])"
   ]
  },
  {
   "cell_type": "code",
   "execution_count": 112,
   "metadata": {},
   "outputs": [],
   "source": [
    "PPROM_RF = RandomForestClassifier(n_estimators = 1050, max_leaf_nodes=30, criterion='entropy')\n",
    "PPROM_SVM = SVC(kernel='rbf', gamma=0.01, probability=True, random_state=seed)\n",
    "PPROM_LR = LogisticRegression()\n",
    "PPROM_clf = VotingClassifier(\n",
    "    estimators=[('PPROM_RF', PPROM_RF), ('PPROM_LR', PPROM_LR), ('PPROM_SVM', PPROM_SVM)], \n",
    "    voting='soft', weights=[2,2,1])"
   ]
  },
  {
   "cell_type": "code",
   "execution_count": 113,
   "metadata": {},
   "outputs": [],
   "source": [
    "scoring = 'roc_auc'\n",
    "kfold = KFold(n_splits=10, random_state=seed)\n",
    "X_s, y_s = shuffle(X_PPROM[:, gene_selection_bool], y_PPROM, random_state=seed)\n",
    "cv_results = cross_val_score(PPROM_clf, X_s, y_s, cv=kfold, scoring=scoring, n_jobs=50)\n",
    "df = pd.DataFrame(cv_results, columns=['AUC'])\n",
    "df['feature_selection_method'] = '*recursive_elimination_rf_100'\n",
    "df['classifier'] = 'PPROM_ensemble'\n",
    "df['AUC_type'] = 'AUROC'\n",
    "au_boxplot_df = pd.concat([au_boxplot_df, df])\n",
    "\n",
    "scoring = 'average_precision'\n",
    "kfold = KFold(n_splits=10, random_state=seed)\n",
    "X_s, y_s = shuffle(X_PPROM[:, gene_selection_bool], y_PPROM, random_state=seed)\n",
    "cv_results = cross_val_score(PPROM_clf, X_s, y_s, cv=kfold, scoring=scoring, n_jobs=50)\n",
    "df = pd.DataFrame(cv_results, columns=['AUC'])\n",
    "df['feature_selection_method'] = '*recursive_elimination_rf_100'\n",
    "df['classifier'] = 'PPROM_ensemble'\n",
    "df['AUC_type'] = 'AUPR'\n",
    "au_boxplot_df = pd.concat([au_boxplot_df, df])"
   ]
  },
  {
   "cell_type": "markdown",
   "metadata": {},
   "source": [
    "### Let's decide an ensemble way!"
   ]
  },
  {
   "cell_type": "markdown",
   "metadata": {},
   "source": [
    "only with rf"
   ]
  },
  {
   "cell_type": "code",
   "execution_count": 82,
   "metadata": {},
   "outputs": [
    {
     "data": {
      "text/plain": [
       "Text(0.5, 1.0, 'Ensemble Classifiers')"
      ]
     },
     "execution_count": 82,
     "metadata": {},
     "output_type": "execute_result"
    },
    {
     "data": {
      "image/png": "[encoded data removed]",
      "text/plain": [
       "<Figure size 720x432 with 1 Axes>"
      ]
     },
     "metadata": {},
     "output_type": "display_data"
    }
   ],
   "source": [
    "plt.figure(figsize=(10, 6))\n",
    "sns.boxplot(x='classifier', y='AUC', hue='AUC_type', data=au_boxplot_df)\n",
    "plt.xticks(fontsize=12)\n",
    "plt.ylabel('AUC', fontsize=12)\n",
    "plt.legend(loc=4)\n",
    "plt.title('Ensemble Classifiers')"
   ]
  },
  {
   "cell_type": "markdown",
   "metadata": {},
   "source": [
    "rf : lr = 1 : 1"
   ]
  },
  {
   "cell_type": "code",
   "execution_count": 88,
   "metadata": {},
   "outputs": [
    {
     "data": {
      "text/plain": [
       "Text(0.5, 1.0, 'Ensemble Classifiers')"
      ]
     },
     "execution_count": 88,
     "metadata": {},
     "output_type": "execute_result"
    },
    {
     "data": {
      "image/png": "[encoded data removed]",
      "text/plain": [
       "<Figure size 720x432 with 1 Axes>"
      ]
     },
     "metadata": {},
     "output_type": "display_data"
    }
   ],
   "source": [
    "plt.figure(figsize=(10, 6))\n",
    "sns.boxplot(x='classifier', y='AUC', hue='AUC_type', data=au_boxplot_df)\n",
    "plt.xticks(fontsize=12)\n",
    "plt.ylabel('AUC', fontsize=12)\n",
    "plt.legend(loc=4)\n",
    "plt.title('Ensemble Classifiers')"
   ]
  },
  {
   "cell_type": "markdown",
   "metadata": {},
   "source": [
    "rf : lr : svm = 1 : 1 : 1"
   ]
  },
  {
   "cell_type": "code",
   "execution_count": 102,
   "metadata": {},
   "outputs": [
    {
     "data": {
      "text/plain": [
       "Text(0.5, 1.0, 'Ensemble Classifiers')"
      ]
     },
     "execution_count": 102,
     "metadata": {},
     "output_type": "execute_result"
    },
    {
     "data": {
      "image/png": "[encoded data removed]",
      "text/plain": [
       "<Figure size 720x432 with 1 Axes>"
      ]
     },
     "metadata": {},
     "output_type": "display_data"
    }
   ],
   "source": [
    "plt.figure(figsize=(10, 6))\n",
    "sns.boxplot(x='classifier', y='AUC', hue='AUC_type', data=au_boxplot_df)\n",
    "plt.xticks(fontsize=12)\n",
    "plt.ylabel('AUC', fontsize=12)\n",
    "plt.legend(loc=4)\n",
    "plt.title('Ensemble Classifiers')"
   ]
  },
  {
   "cell_type": "markdown",
   "metadata": {},
   "source": [
    "rf : lr : svm = 2 : 2 : 1"
   ]
  },
  {
   "cell_type": "code",
   "execution_count": 114,
   "metadata": {},
   "outputs": [
    {
     "data": {
      "text/plain": [
       "Text(0.5, 1.0, 'Ensemble Classifiers')"
      ]
     },
     "execution_count": 114,
     "metadata": {},
     "output_type": "execute_result"
    },
    {
     "data": {
      "image/png": "[encoded data removed]",
      "text/plain": [
       "<Figure size 720x432 with 1 Axes>"
      ]
     },
     "metadata": {},
     "output_type": "display_data"
    }
   ],
   "source": [
    "plt.figure(figsize=(10, 6))\n",
    "sns.boxplot(x='classifier', y='AUC', hue='AUC_type', data=au_boxplot_df)\n",
    "plt.xticks(fontsize=12)\n",
    "plt.ylabel('AUC', fontsize=12)\n",
    "plt.legend(loc=4)\n",
    "plt.title('Ensemble Classifiers')"
   ]
  },
  {
   "cell_type": "markdown",
   "metadata": {
    "toc-hr-collapsed": true
   },
   "source": [
    "## Appendix"
   ]
  },
  {
   "cell_type": "markdown",
   "metadata": {},
   "source": [
    "### selected genes comparison"
   ]
  },
  {
   "cell_type": "code",
   "execution_count": 89,
   "metadata": {},
   "outputs": [],
   "source": [
    "model = RandomForestClassifier(n_estimators = 1200, max_leaf_nodes=30, criterion='entropy')\n",
    "seed = 934\n",
    "\n",
    "results = []\n",
    "names = []\n",
    "scoring = 'roc_auc'\n",
    "for col in selected_genes.columns:\n",
    "    re_selected_cols = gene_expression_label_sPTD.columns[:-1].isin(selected_genes[col].tolist()[:100]).copy()\n",
    "    kfold = KFold(n_splits=10, random_state=seed)\n",
    "    X_s, y_s = shuffle(X_sPTD[:, re_selected_cols], y_sPTD)\n",
    "    cv_results = cross_val_score(model, X_s, y_s, cv=kfold, scoring=scoring, n_jobs=40)\n",
    "    results.append(cv_results)\n",
    "    names.append(col)"
   ]
  },
  {
   "cell_type": "code",
   "execution_count": 90,
   "metadata": {},
   "outputs": [
    {
     "name": "stderr",
     "output_type": "stream",
     "text": [
      "/data/software/Anaconda3/4.4.0-foss-2017a/lib/python3.6/site-packages/ipykernel_launcher.py:4: MatplotlibDeprecationWarning: Adding an axes using the same arguments as a previous axes currently reuses the earlier instance.  In a future version, a new instance will always be created and returned.  Meanwhile, this warning can be suppressed, and the future behavior ensured, by passing a unique label to each axes instance.\n",
      "  after removing the cwd from sys.path.\n"
     ]
    },
    {
     "data": {
      "text/plain": [
       "[Text(0, 0, 'std'),\n",
       " Text(0, 0, 'chi2_sPTD'),\n",
       " Text(0, 0, 'chi2_PPROM'),\n",
       " Text(0, 0, 'chi2_both'),\n",
       " Text(0, 0, 'ANOVA_ F-value_sPTD'),\n",
       " Text(0, 0, 'ANOVA F-value_PPROM'),\n",
       " Text(0, 0, 'ANOVA_F-value_both'),\n",
       " Text(0, 0, 'mutual_info_sPTD'),\n",
       " Text(0, 0, 'mutual_info_PPROM'),\n",
       " Text(0, 0, 'mutual_info_both'),\n",
       " Text(0, 0, 'mrmr_sPTD_MIQ'),\n",
       " Text(0, 0, 'mrmr_sPTD_MID'),\n",
       " Text(0, 0, 'mrmr_PPROM_MID'),\n",
       " Text(0, 0, 'mrmr_PPROM_MIQ'),\n",
       " Text(0, 0, 'mrmr_both_MID'),\n",
       " Text(0, 0, 'mrmr_both_MIQ'),\n",
       " Text(0, 0, '*mrmr_both_MID(k=0.5)'),\n",
       " Text(0, 0, '*mrmr_both_MIQ(k=0.5)'),\n",
       " Text(0, 0, '*mrmr_both_MID(k=1.0)'),\n",
       " Text(0, 0, '*mrmr_both_MIQ(k=1.0)'),\n",
       " Text(0, 0, '*recursive_elimination_rf'),\n",
       " Text(0, 0, '*recursive_elimination_rf_100'),\n",
       " Text(0, 0, 'differentially_expressed_genes')]"
      ]
     },
     "execution_count": 90,
     "metadata": {},
     "output_type": "execute_result"
    },
    {
     "data": {
      "image/png": "[encoded data removed]",
      "text/plain": [
       "<Figure size 1440x432 with 1 Axes>"
      ]
     },
     "metadata": {},
     "output_type": "display_data"
    }
   ],
   "source": [
    "fig = plt.figure(figsize=(20, 6))\n",
    "fig.suptitle('Gene Selection Comparison for Random Forest sPTD Classifer with AUROC')\n",
    "plt.boxplot(results)\n",
    "ax = fig.add_subplot(111)\n",
    "ax.set_xticklabels(names, rotation=90)"
   ]
  },
  {
   "cell_type": "code",
   "execution_count": 106,
   "metadata": {},
   "outputs": [],
   "source": [
    "model = RandomForestClassifier(n_estimators = 1200, max_leaf_nodes=30, criterion='entropy')\n",
    "seed = 934\n",
    "\n",
    "results = []\n",
    "names = []\n",
    "scoring = 'average_precision'\n",
    "for col in selected_genes.columns:\n",
    "    re_selected_cols = gene_expression_label_sPTD.columns[:-1].isin(selected_genes[col].tolist()[:100]).copy()\n",
    "    kfold = KFold(n_splits=10, random_state=seed)\n",
    "    X_s, y_s = shuffle(X_sPTD[:, re_selected_cols], y_sPTD)\n",
    "    cv_results = cross_val_score(model, X_s, y_s, cv=kfold, scoring=scoring, n_jobs=40)\n",
    "    results.append(cv_results)\n",
    "    names.append(col)"
   ]
  },
  {
   "cell_type": "code",
   "execution_count": 107,
   "metadata": {},
   "outputs": [
    {
     "data": {
      "text/plain": [
       "([<matplotlib.axis.XTick at 0x7f3e9d1fa710>,\n",
       "  <matplotlib.axis.XTick at 0x7f3e861d0be0>,\n",
       "  <matplotlib.axis.XTick at 0x7f3e9a3774a8>,\n",
       "  <matplotlib.axis.XTick at 0x7f3e9d2b4ef0>,\n",
       "  <matplotlib.axis.XTick at 0x7f3e86205400>,\n",
       "  <matplotlib.axis.XTick at 0x7f3e862058d0>,\n",
       "  <matplotlib.axis.XTick at 0x7f3e86205da0>,\n",
       "  <matplotlib.axis.XTick at 0x7f3e862002e8>,\n",
       "  <matplotlib.axis.XTick at 0x7f3e86205630>,\n",
       "  <matplotlib.axis.XTick at 0x7f3e86205390>,\n",
       "  <matplotlib.axis.XTick at 0x7f3e86200a90>,\n",
       "  <matplotlib.axis.XTick at 0x7f3e86200f60>,\n",
       "  <matplotlib.axis.XTick at 0x7f3e8620f470>,\n",
       "  <matplotlib.axis.XTick at 0x7f3e8620f940>,\n",
       "  <matplotlib.axis.XTick at 0x7f3e8620fe10>,\n",
       "  <matplotlib.axis.XTick at 0x7f3e86218358>,\n",
       "  <matplotlib.axis.XTick at 0x7f3e862187f0>,\n",
       "  <matplotlib.axis.XTick at 0x7f3e86218cc0>,\n",
       "  <matplotlib.axis.XTick at 0x7f3e8620f8d0>,\n",
       "  <matplotlib.axis.XTick at 0x7f3e86200128>,\n",
       "  <matplotlib.axis.XTick at 0x7f3e862180f0>,\n",
       "  <matplotlib.axis.XTick at 0x7f3e86225470>,\n",
       "  <matplotlib.axis.XTick at 0x7f3e86225940>],\n",
       " <a list of 23 Text xticklabel objects>)"
      ]
     },
     "execution_count": 107,
     "metadata": {},
     "output_type": "execute_result"
    },
    {
     "data": {
      "image/png": "[encoded data removed]",
      "text/plain": [
       "<Figure size 1440x432 with 1 Axes>"
      ]
     },
     "metadata": {},
     "output_type": "display_data"
    }
   ],
   "source": [
    "plt.figure(figsize=(20, 6))\n",
    "plt.title('Gene Selection Comparison for Random Forest sPTD Classifer with AUPR')\n",
    "plt.boxplot(results)\n",
    "plt.xticks((range(1, len(results)+1)), names, rotation='vertical')"
   ]
  },
  {
   "cell_type": "code",
   "execution_count": 111,
   "metadata": {},
   "outputs": [],
   "source": [
    "seed = 934\n",
    "sPTD_models = []\n",
    "sPTD_models.append(('Random Forest', RandomForestClassifier(n_estimators = 1200, max_leaf_nodes=30, n_jobs=40, criterion='entropy')))\n",
    "sPTD_models.append(('logistic', LogisticRegression()))\n",
    "sPTD_models.append(('SVM', SVC()))\n",
    "\n",
    "results = []\n",
    "names = []\n",
    "scoring = 'roc_auc'\n",
    "col = 'chi2_both'\n",
    "\n",
    "re_selected_cols = gene_expression_label_sPTD.columns[:-1].isin(selected_genes[col].tolist()[:100]).copy()\n",
    "X_s, y_s = shuffle(X_sPTD[:, re_selected_cols], y_sPTD)\n",
    "for name, model in sPTD_models:\n",
    "    kfold = KFold(n_splits=10, random_state=seed)\n",
    "    cv_results = cross_val_score(model, X_s, y_s, cv=kfold, scoring=scoring, n_jobs=40)\n",
    "    results.append(cv_results)\n",
    "    names.append(name)"
   ]
  },
  {
   "cell_type": "code",
   "execution_count": 112,
   "metadata": {},
   "outputs": [
    {
     "data": {
      "text/plain": [
       "([<matplotlib.axis.XTick at 0x7f3e8617e780>,\n",
       "  <matplotlib.axis.XTick at 0x7f3e86195940>,\n",
       "  <matplotlib.axis.XTick at 0x7f3e8625b550>],\n",
       " <a list of 3 Text xticklabel objects>)"
      ]
     },
     "execution_count": 112,
     "metadata": {},
     "output_type": "execute_result"
    },
    {
     "data": {
      "image/png": "[encoded data removed]",
      "text/plain": [
       "<Figure size 1440x432 with 1 Axes>"
      ]
     },
     "metadata": {},
     "output_type": "display_data"
    }
   ],
   "source": [
    "plt.figure(figsize=(20, 6))\n",
    "plt.title('Model Comparison for sPTD Classifers with AUROC')\n",
    "plt.boxplot(results)\n",
    "plt.xticks((range(1, len(results)+1)), names, rotation='vertical')"
   ]
  },
  {
   "cell_type": "markdown",
   "metadata": {},
   "source": [
    "### Decision Tree"
   ]
  },
  {
   "cell_type": "code",
   "execution_count": 143,
   "metadata": {},
   "outputs": [],
   "source": [
    "# Setup the parameters and distributions to sample from: param_dist\n",
    "param_dist = {\"max_depth\": [3, None],\n",
    "              \"max_features\": randint(1, 9),\n",
    "              \"min_samples_leaf\": randint(1, 9),\n",
    "              \"criterion\": [\"gini\", \"entropy\"], \n",
    "              \"class_weight\":[{0:13, 1:1}]}"
   ]
  },
  {
   "cell_type": "code",
   "execution_count": 168,
   "metadata": {},
   "outputs": [],
   "source": [
    "# Instantiate a Decision Tree classifier: tree\n",
    "tree = DecisionTreeClassifier()"
   ]
  },
  {
   "cell_type": "code",
   "execution_count": 169,
   "metadata": {},
   "outputs": [],
   "source": [
    "# Instantiate the RandomizedSearchCV object: tree_cv\n",
    "tree_cv = RandomizedSearchCV(tree, param_dist, cv=5)"
   ]
  },
  {
   "cell_type": "code",
   "execution_count": 170,
   "metadata": {},
   "outputs": [
    {
     "data": {
      "text/plain": [
       "RandomizedSearchCV(cv=5, error_score='raise-deprecating',\n",
       "                   estimator=DecisionTreeClassifier(class_weight=None,\n",
       "                                                    criterion='gini',\n",
       "                                                    max_depth=None,\n",
       "                                                    max_features=None,\n",
       "                                                    max_leaf_nodes=None,\n",
       "                                                    min_impurity_decrease=0.0,\n",
       "                                                    min_impurity_split=None,\n",
       "                                                    min_samples_leaf=1,\n",
       "                                                    min_samples_split=2,\n",
       "                                                    min_weight_fraction_leaf=0.0,\n",
       "                                                    presort=False,\n",
       "                                                    random_state=None,\n",
       "                                                    splitter='best'),\n",
       "                   iid='w...\n",
       "                   param_distributions={'class_weight': [{0: 13, 1: 1}],\n",
       "                                        'criterion': ['gini', 'entropy'],\n",
       "                                        'max_depth': [3, None],\n",
       "                                        'max_features': <scipy.stats._distn_infrastructure.rv_frozen object at 0x1982a2198>,\n",
       "                                        'min_samples_leaf': <scipy.stats._distn_infrastructure.rv_frozen object at 0x1982967b8>},\n",
       "                   pre_dispatch='2*n_jobs', random_state=None, refit=True,\n",
       "                   return_train_score=False, scoring=None, verbose=0)"
      ]
     },
     "execution_count": 170,
     "metadata": {},
     "output_type": "execute_result"
    }
   ],
   "source": [
    "# Fit it to the data\n",
    "tree_cv.fit(X_sPTD,y_sPTD)"
   ]
  },
  {
   "cell_type": "code",
   "execution_count": 171,
   "metadata": {},
   "outputs": [
    {
     "name": "stdout",
     "output_type": "stream",
     "text": [
      "Tuned Decision Tree Parameters: {'class_weight': {0: 13, 1: 1}, 'criterion': 'entropy', 'max_depth': 3, 'max_features': 1, 'min_samples_leaf': 3}\n",
      "Best score is 0.925575101488498\n"
     ]
    }
   ],
   "source": [
    "# Print the tuned parameters and score\n",
    "print(\"Tuned Decision Tree Parameters: {}\".format(tree_cv.best_params_))\n",
    "print(\"Best score is {}\".format(tree_cv.best_score_))"
   ]
  },
  {
   "cell_type": "code",
   "execution_count": 206,
   "metadata": {},
   "outputs": [],
   "source": [
    "tree_model = DecisionTreeClassifier(class_weight={0: 5, 1: 1}, criterion='entropy', random_state=934)"
   ]
  },
  {
   "cell_type": "code",
   "execution_count": 207,
   "metadata": {},
   "outputs": [
    {
     "data": {
      "text/plain": [
       "DecisionTreeClassifier(class_weight={0: 5, 1: 1}, criterion='entropy',\n",
       "                       max_depth=None, max_features=None, max_leaf_nodes=None,\n",
       "                       min_impurity_decrease=0.0, min_impurity_split=None,\n",
       "                       min_samples_leaf=1, min_samples_split=2,\n",
       "                       min_weight_fraction_leaf=0.0, presort=False,\n",
       "                       random_state=934, splitter='best')"
      ]
     },
     "execution_count": 207,
     "metadata": {},
     "output_type": "execute_result"
    }
   ],
   "source": [
    "tree_model.fit(X_sPTD,y_sPTD)"
   ]
  },
  {
   "cell_type": "code",
   "execution_count": 208,
   "metadata": {},
   "outputs": [
    {
     "data": {
      "text/plain": [
       "1.0"
      ]
     },
     "execution_count": 208,
     "metadata": {},
     "output_type": "execute_result"
    }
   ],
   "source": [
    "y_pred_prob = tree_model.predict_proba(X_sPTD)[:, 1]\n",
    "roc_auc_score(y_sPTD, y_pred_prob)"
   ]
  },
  {
   "cell_type": "code",
   "execution_count": 183,
   "metadata": {},
   "outputs": [],
   "source": [
    "importance_score = tree_model.feature_importances_"
   ]
  },
  {
   "cell_type": "code",
   "execution_count": 209,
   "metadata": {},
   "outputs": [
    {
     "data": {
      "text/plain": [
       "array([0., 0., 0., ..., 0., 0., 0.])"
      ]
     },
     "execution_count": 209,
     "metadata": {},
     "output_type": "execute_result"
    }
   ],
   "source": [
    "importance_score"
   ]
  },
  {
   "cell_type": "code",
   "execution_count": 217,
   "metadata": {},
   "outputs": [
    {
     "data": {
      "text/plain": [
       "array([0.09223793, 0.08021582, 0.07852381, 0.0765918 , 0.06689893,\n",
       "       0.06553619, 0.05463864, 0.05154424, 0.04804543, 0.04456046,\n",
       "       0.04253244, 0.04102478, 0.04085148, 0.04017689, 0.0398236 ,\n",
       "       0.03882493, 0.03517786, 0.0327802 , 0.03001457, 0.        ])"
      ]
     },
     "execution_count": 217,
     "metadata": {},
     "output_type": "execute_result"
    }
   ],
   "source": [
    "importance_score[np.argsort(importance_score)[::-1]][:20]"
   ]
  },
  {
   "cell_type": "code",
   "execution_count": 218,
   "metadata": {},
   "outputs": [
    {
     "data": {
      "text/plain": [
       "Index(['102724528_at', '5453_at', '25792_at', '89839_at', '245802_at',\n",
       "       '105377742_at', '84083_at', '3087_at', '100131067_at', '105378027_at',\n",
       "       '102724081_at', '6228_at', '4038_at', '107985359_at', '222255_at',\n",
       "       '2196_at', '353091_at', '13_at', '100130373_at', '123264_at'],\n",
       "      dtype='object')"
      ]
     },
     "execution_count": 218,
     "metadata": {},
     "output_type": "execute_result"
    }
   ],
   "source": [
    "gene_expression_label_sPTD.columns[np.argsort(importance_score)[::-1]][:20]"
   ]
  },
  {
   "cell_type": "code",
   "execution_count": null,
   "metadata": {},
   "outputs": [],
   "source": []
  }
 ],
 "metadata": {
  "kernelspec": {
   "display_name": "Python 3",
   "language": "python",
   "name": "python3"
  },
  "language_info": {
   "codemirror_mode": {
    "name": "ipython",
    "version": 3
   },
   "file_extension": ".py",
   "mimetype": "text/x-python",
   "name": "python",
   "nbconvert_exporter": "python",
   "pygments_lexer": "ipython3",
   "version": "3.6.0"
  },
  "toc": {
   "base_numbering": 1,
   "nav_menu": {},
   "number_sections": true,
   "sideBar": true,
   "skip_h1_title": false,
   "title_cell": "Table of Contents",
   "title_sidebar": "Contents",
   "toc_cell": true,
   "toc_position": {
    "height": "calc(100% - 180px)",
    "left": "10px",
    "top": "150px",
    "width": "373px"
   },
   "toc_section_display": true,
   "toc_window_display": true
  },
  "toc-autonumbering": false,
  "toc-showcode": false,
  "toc-showmarkdowntxt": false,
  "toc-showtags": false
 },
 "nbformat": 4,
 "nbformat_minor": 2
}
